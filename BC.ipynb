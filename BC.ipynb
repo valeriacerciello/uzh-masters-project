{
 "cells": [
  {
   "cell_type": "code",
   "execution_count": 5,
   "id": "116382bd",
   "metadata": {},
   "outputs": [
    {
     "name": "stdout",
     "output_type": "stream",
     "text": [
      "Device: cpu\n",
      "Data path: Expert_data/expert_data_rllib_simple_push.pickle\n"
     ]
    }
   ],
   "source": [
    "#Imports & hyperparameters\n",
    "\n",
    "\n",
    "import pickle\n",
    "import torch\n",
    "import numpy as np\n",
    "from torch.utils.data import Dataset, DataLoader\n",
    "\n",
    "# Training device\n",
    "device     = torch.device(\"cuda\" if torch.cuda.is_available() else \"cpu\")\n",
    "\n",
    "# Path to expert trajectories (simple_push)\n",
    "data_path  = \"Expert_data/expert_data_rllib_simple_push.pickle\"\n",
    "\n",
    "# BC hyperparameters\n",
    "batch_size = 64\n",
    "lr         = 1e-3\n",
    "epochs     = 50\n",
    "hidden_dim = 64\n",
    "\n",
    "print(\"Device:\", device)\n",
    "print(\"Data path:\", data_path)"
   ]
  },
  {
   "cell_type": "code",
   "execution_count": 6,
   "id": "dca6f47a",
   "metadata": {},
   "outputs": [
    {
     "name": "stdout",
     "output_type": "stream",
     "text": [
      "expert_data type: <class 'dict'>\n",
      "Agents available: ['adversary_0', 'agent_0']\n",
      "  adversary_0: 1200 transitions, state shape=(8,), action shape=()\n",
      "  agent_0: 1200 transitions, state shape=(19,), action shape=()\n"
     ]
    }
   ],
   "source": [
    "# Load & inspect expert_data\n",
    "# Load the pickled expert trajectories\n",
    "with open(data_path, \"rb\") as f:\n",
    "    expert_data = pickle.load(f)\n",
    "\n",
    "# Sanity check\n",
    "print(\"expert_data type:\", type(expert_data))\n",
    "print(\"Agents available:\", list(expert_data.keys()))\n",
    "\n",
    "# For each agent, print number of transitions and example shapes\n",
    "for agent, data in expert_data.items():\n",
    "    n_states  = len(data[\"states\"])\n",
    "    n_actions = len(data[\"actions\"])\n",
    "    # Peek at shapes\n",
    "    state_shape  = np.array(data[\"states\"][0]).shape\n",
    "    action_shape = np.array(data[\"actions\"][0]).shape\n",
    "    print(f\"  {agent}: {n_states} transitions, state shape={state_shape}, action shape={action_shape}\")"
   ]
  },
  {
   "cell_type": "code",
   "execution_count": null,
   "id": "70549eb8",
   "metadata": {},
   "outputs": [],
   "source": []
  }
 ],
 "metadata": {
  "kernelspec": {
   "display_name": "Python 3",
   "language": "python",
   "name": "python3"
  },
  "language_info": {
   "codemirror_mode": {
    "name": "ipython",
    "version": 3
   },
   "file_extension": ".py",
   "mimetype": "text/x-python",
   "name": "python",
   "nbconvert_exporter": "python",
   "pygments_lexer": "ipython3",
   "version": "3.13.2"
  }
 },
 "nbformat": 4,
 "nbformat_minor": 5
}
