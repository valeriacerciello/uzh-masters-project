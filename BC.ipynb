{
 "cells": [
  {
   "cell_type": "code",
   "execution_count": 1,
   "id": "116382bd",
   "metadata": {},
   "outputs": [
    {
     "name": "stdout",
     "output_type": "stream",
     "text": [
      "Device: cpu\n",
      "Data path: Expert_data/expert_data_rllib_simple_push.pickle\n"
     ]
    }
   ],
   "source": [
    "#Imports & hyperparameters\n",
    "\n",
    "\n",
    "import pickle\n",
    "import torch\n",
    "import numpy as np\n",
    "from torch.utils.data import Dataset, DataLoader\n",
    "\n",
    "# Training device\n",
    "device     = torch.device(\"cuda\" if torch.cuda.is_available() else \"cpu\")\n",
    "\n",
    "# Path to expert trajectories (simple_push)\n",
    "data_path  = \"Expert_data/expert_data_rllib_simple_push.pickle\"\n",
    "\n",
    "# BC hyperparameters\n",
    "batch_size = 64\n",
    "lr         = 1e-3\n",
    "epochs     = 50\n",
    "hidden_dim = 64\n",
    "\n",
    "print(\"Device:\", device)\n",
    "print(\"Data path:\", data_path)"
   ]
  },
  {
   "cell_type": "code",
   "execution_count": 2,
   "id": "dca6f47a",
   "metadata": {},
   "outputs": [
    {
     "name": "stdout",
     "output_type": "stream",
     "text": [
      "expert_data type: <class 'dict'>\n",
      "Agents available: ['adversary_0', 'agent_0']\n",
      "  adversary_0: 1200 transitions, state shape=(8,), action shape=()\n",
      "  agent_0: 1200 transitions, state shape=(19,), action shape=()\n"
     ]
    }
   ],
   "source": [
    "# Load & inspect expert_data\n",
    "# Load the pickled expert trajectories\n",
    "with open(data_path, \"rb\") as f:\n",
    "    expert_data = pickle.load(f)\n",
    "\n",
    "# Sanity check\n",
    "print(\"expert_data type:\", type(expert_data))\n",
    "print(\"Agents available:\", list(expert_data.keys()))\n",
    "\n",
    "# For each agent, print number of transitions and example shapes\n",
    "for agent, data in expert_data.items():\n",
    "    n_states  = len(data[\"states\"])\n",
    "    n_actions = len(data[\"actions\"])\n",
    "    # Peek at shapes\n",
    "    state_shape  = np.array(data[\"states\"][0]).shape\n",
    "    action_shape = np.array(data[\"actions\"][0]).shape\n",
    "    print(f\"  {agent}: {n_states} transitions, state shape={state_shape}, action shape={action_shape}\")"
   ]
  },
  {
   "cell_type": "code",
   "execution_count": 3,
   "id": "70549eb8",
   "metadata": {},
   "outputs": [
    {
     "name": "stdout",
     "output_type": "stream",
     "text": [
      "adversary_0 batch shapes → states: torch.Size([64, 8]), actions: torch.Size([64])\n",
      "agent_0 batch shapes → states: torch.Size([64, 19]), actions: torch.Size([64])\n"
     ]
    }
   ],
   "source": [
    "# SingleAgentExpertDataset + DataLoaders\n",
    "class SingleAgentExpertDataset(Dataset):\n",
    "    def __init__(self, states, actions):\n",
    "        # Convert lists of numpy arrays into torch tensors\n",
    "        self.states  = torch.from_numpy(np.array(states)).float()\n",
    "        self.actions = torch.from_numpy(np.array(actions)).long()\n",
    "\n",
    "    def __len__(self):\n",
    "        return len(self.states)\n",
    "\n",
    "    def __getitem__(self, idx):\n",
    "        return self.states[idx], self.actions[idx]\n",
    "\n",
    "# Instantiate datasets and loaders\n",
    "datasets = {}\n",
    "loaders  = {}\n",
    "\n",
    "for agent, data in expert_data.items():\n",
    "    ds     = SingleAgentExpertDataset(data[\"states\"], data[\"actions\"])\n",
    "    loader = DataLoader(ds, batch_size=batch_size, shuffle=True)\n",
    "    datasets[agent] = ds\n",
    "    loaders[agent]  = loader\n",
    "\n",
    "    # Print a batch shape for sanity\n",
    "    s_batch, a_batch = next(iter(loader))\n",
    "    print(f\"{agent} batch shapes → states: {s_batch.shape}, actions: {a_batch.shape}\")"
   ]
  },
  {
   "cell_type": "code",
   "execution_count": 4,
   "id": "34fcfc17",
   "metadata": {},
   "outputs": [
    {
     "name": "stdout",
     "output_type": "stream",
     "text": [
      "adversary_0 policy → obs_dim: 8, act_dim: 5\n",
      "BCPolicy(\n",
      "  (net): Sequential(\n",
      "    (0): Linear(in_features=8, out_features=64, bias=True)\n",
      "    (1): ReLU()\n",
      "    (2): Linear(in_features=64, out_features=64, bias=True)\n",
      "    (3): ReLU()\n",
      "    (4): Linear(in_features=64, out_features=5, bias=True)\n",
      "  )\n",
      ")\n",
      "agent_0 policy → obs_dim: 19, act_dim: 5\n",
      "BCPolicy(\n",
      "  (net): Sequential(\n",
      "    (0): Linear(in_features=19, out_features=64, bias=True)\n",
      "    (1): ReLU()\n",
      "    (2): Linear(in_features=64, out_features=64, bias=True)\n",
      "    (3): ReLU()\n",
      "    (4): Linear(in_features=64, out_features=5, bias=True)\n",
      "  )\n",
      ")\n"
     ]
    }
   ],
   "source": [
    "# Behavior Cloning policy network definition\n",
    "import torch.nn as nn\n",
    "\n",
    "class BCPolicy(nn.Module):\n",
    "    def __init__(self, obs_dim, act_dim, hidden_dim=64):\n",
    "        super().__init__()\n",
    "        self.net = nn.Sequential(\n",
    "            nn.Linear(obs_dim, hidden_dim),\n",
    "            nn.ReLU(),\n",
    "            nn.Linear(hidden_dim, hidden_dim),\n",
    "            nn.ReLU(),\n",
    "            nn.Linear(hidden_dim, act_dim)\n",
    "        )\n",
    "\n",
    "    def forward(self, x):\n",
    "        return self.net(x)\n",
    "\n",
    "# Instantiate one BCPolicy per agent\n",
    "policies = {}\n",
    "for agent, ds in datasets.items():\n",
    "    obs_dim = ds.states.shape[1]\n",
    "    # assume actions are 0...act_dim-1\n",
    "    act_dim = int(ds.actions.max().item()) + 1\n",
    "    policy = BCPolicy(obs_dim, act_dim, hidden_dim).to(device)\n",
    "    policies[agent] = policy\n",
    "    print(f\"{agent} policy → obs_dim: {obs_dim}, act_dim: {act_dim}\")\n",
    "    print(policy)"
   ]
  },
  {
   "cell_type": "code",
   "execution_count": null,
   "id": "32abc797",
   "metadata": {},
   "outputs": [],
   "source": []
  }
 ],
 "metadata": {
  "kernelspec": {
   "display_name": "Python 3",
   "language": "python",
   "name": "python3"
  },
  "language_info": {
   "codemirror_mode": {
    "name": "ipython",
    "version": 3
   },
   "file_extension": ".py",
   "mimetype": "text/x-python",
   "name": "python",
   "nbconvert_exporter": "python",
   "pygments_lexer": "ipython3",
   "version": "3.13.2"
  }
 },
 "nbformat": 4,
 "nbformat_minor": 5
}
