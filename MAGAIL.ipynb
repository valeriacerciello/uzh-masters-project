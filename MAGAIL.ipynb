{
 "cells": [
  {
   "cell_type": "code",
   "execution_count": 1,
   "metadata": {},
   "outputs": [
    {
     "name": "stdout",
     "output_type": "stream",
     "text": [
      "Agents: ['speaker_0', 'listener_0']\n"
     ]
    }
   ],
   "source": [
    "import torch\n",
    "import torch.nn as nn\n",
    "import torch.optim as optim\n",
    "import numpy as np\n",
    "from pettingzoo.mpe import simple_speaker_listener_v4\n",
    "\n",
    "def make_env():\n",
    "    env = simple_speaker_listener_v4.parallel_env(continuous_actions=False, render_mode=\"rgb_array\", max_cycles=25)\n",
    "    env.reset()\n",
    "    return env\n",
    "\n",
    "def make_env_human():\n",
    "    env = simple_speaker_listener_v4.parallel_env(continuous_actions=False, render_mode=\"human\", max_cycles=25)\n",
    "    env.reset()\n",
    "    return env\n",
    "\n",
    "# Test the environment\n",
    "env = make_env()\n",
    "print(\"Agents:\", env.agents)  # ['speaker_0', 'listener_0']"
   ]
  },
  {
   "cell_type": "markdown",
   "metadata": {},
   "source": [
    "# Hyperparameters"
   ]
  },
  {
   "cell_type": "code",
   "execution_count": null,
   "metadata": {},
   "outputs": [],
   "source": [
    "device = \"cuda:0\" if torch.cuda.is_available() else \"cpu\"\n",
    "\n",
    "num_expert_episodes = 50\n",
    "# Agent dimensions\n",
    "speaker_obs_dim = 3     #[goal_id]\n",
    "listener_obs_dim = 11 #[self_vel, all_landmark_rel_positions, communication]\n",
    "\n",
    "speaker_act_dim = 3 \n",
    "listener_act_dim = 5 # [no_action, move_left, move_right, move_down, move_up]\n",
    "\n",
    "# Two layers network, applied for discriminator, policy and value network\n",
    "all_hid_dim = 64\n",
    "\n",
    "all_agents = env.agents\n",
    "\n",
    "obs_dims = {\n",
    "    \"speaker_0\": speaker_obs_dim,\n",
    "    \"listener_0\": listener_obs_dim\n",
    "}\n",
    "\n",
    "act_dims = {\n",
    "    \"speaker_0\": speaker_act_dim,\n",
    "    \"listener_0\": listener_act_dim\n",
    "}\n",
    "\n",
    "hid_dims = {\n",
    "    \"speaker_0\": all_hid_dim,\n",
    "    \"listener_0\": all_hid_dim\n",
    "}\n",
    "\n",
    "# Evaluated from 5000 expert episodes\n",
    "expert_mean_reward = -39.53"
   ]
  },
  {
   "cell_type": "markdown",
   "metadata": {},
   "source": [
    "# Expert Demonstrations\n",
    "Load the expert policy from paper Inverse Factorized Soft Q-Learning for Cooperative Multi-agent Imitation Learning\n"
   ]
  },
  {
   "cell_type": "code",
   "execution_count": 3,
   "metadata": {},
   "outputs": [],
   "source": [
    "env = make_env()"
   ]
  },
  {
   "cell_type": "code",
   "execution_count": 4,
   "metadata": {},
   "outputs": [
    {
     "name": "stdout",
     "output_type": "stream",
     "text": [
      "Retrieved h_dim: 128\n"
     ]
    }
   ],
   "source": [
    "import torch\n",
    "\n",
    "\n",
    "# Load the expert policy\n",
    "expert_policies = torch.jit.load(\"Expert_data/simple_speaker_listener.pt\").to(device)\n",
    "expert_policies.eval()\n",
    "\n",
    "# Try to retrieve h_dim from the policy, fallback to 128\n",
    "try:\n",
    "    h_dim = expert_policies.h_dim\n",
    "    print(f\"Retrieved h_dim: {h_dim}\")\n",
    "except AttributeError:\n",
    "    h_dim = 128  # From error message\n",
    "    print(\"h_dim not accessible, using 128\")\n",
    "\n",
    "def expert_policy(obs, rnn_actor, deterministic=True):\n",
    "    with torch.no_grad():\n",
    "        # Convert observations to tensors\n",
    "        obs_speaker = torch.FloatTensor(obs[\"speaker_0\"]).to(device)\n",
    "        obs_listener = torch.FloatTensor(obs[\"listener_0\"]).to(device)\n",
    "        # Pad speaker's observation (3) to match listener’s (11)\n",
    "        obs_speaker_padded = torch.nn.functional.pad(obs_speaker, (0, 11 - 3))\n",
    "        obs_batch = torch.stack([obs_speaker_padded, obs_listener], dim=0)\n",
    "        \n",
    "        # Define masks and available actions\n",
    "        masks = torch.ones((2, 1), dtype=torch.bool, device=device)  # For 2 agents\n",
    "        avails = torch.ones((2, 5), dtype=torch.float32, device=device)  # Assuming 5 actions per agent\n",
    "        \n",
    "        # Forward pass through the policy\n",
    "        actions, _, new_rnn_actor = expert_policies._forward(\n",
    "            obs_batch, rnn_actor, masks, avails, deterministic\n",
    "        )\n",
    "        actions_dict = {\n",
    "            \"speaker_0\": actions[0].item(),\n",
    "            \"listener_0\": actions[1].item()\n",
    "        }\n",
    "        return actions_dict, new_rnn_actor\n",
    "\n",
    "def generate_expert_data(num_episodes=50):\n",
    "    env = make_env()  # Assuming this is defined elsewhere\n",
    "\n",
    "    # TODO should change the data structure to actually store tuple (s,a)\n",
    "    expert_data = {agent: {\"states\": [], \"actions\": []} for agent in env.agents}\n",
    "\n",
    "    for _ in range(num_episodes):\n",
    "        obs, _ = env.reset()\n",
    "        # Initialize rnn_actor with shape (n_agents, 1, h_dim) on device\n",
    "        rnn_actor = torch.zeros((2, 1, h_dim), device=device)\n",
    "\n",
    "        while env.agents:\n",
    "            actions, rnn_actor = expert_policy(obs, rnn_actor, deterministic=True)\n",
    "            for agent in env.agents:\n",
    "                expert_data[agent][\"states\"].append(obs[agent])\n",
    "                expert_data[agent][\"actions\"].append(actions[agent])\n",
    "            obs, rewards, terminations, truncations, infos = env.step(actions)\n",
    "\n",
    "    env.close()\n",
    "    return expert_data\n"
   ]
  },
  {
   "cell_type": "code",
   "execution_count": null,
   "metadata": {},
   "outputs": [],
   "source": [
    "# Generate data\n",
    "expert_data = generate_expert_data(num_episodes=num_expert_episodes)"
   ]
  },
  {
   "cell_type": "code",
   "execution_count": 6,
   "metadata": {},
   "outputs": [
    {
     "name": "stderr",
     "output_type": "stream",
     "text": [
      "C:\\Users\\wangy\\AppData\\Local\\Temp\\ipykernel_44560\\1204728822.py:2: UserWarning: Creating a tensor from a list of numpy.ndarrays is extremely slow. Please consider converting the list to a single numpy.ndarray with numpy.array() before converting to a tensor. (Triggered internally at C:\\actions-runner\\_work\\pytorch\\pytorch\\pytorch\\torch\\csrc\\utils\\tensor_new.cpp:257.)\n",
      "  expert_states = torch.FloatTensor(expert_data[agent][\"states\"]).to(device)\n"
     ]
    }
   ],
   "source": [
    "agent = \"speaker_0\"\n",
    "expert_states = torch.FloatTensor(expert_data[agent][\"states\"]).to(device)\n",
    "expert_actions = torch.LongTensor(expert_data[agent][\"actions\"]).to(device)"
   ]
  },
  {
   "cell_type": "code",
   "execution_count": 7,
   "metadata": {},
   "outputs": [
    {
     "data": {
      "text/plain": [
       "torch.Size([1250, 3])"
      ]
     },
     "execution_count": 7,
     "metadata": {},
     "output_type": "execute_result"
    }
   ],
   "source": [
    "expert_states.shape"
   ]
  },
  {
   "cell_type": "code",
   "execution_count": 8,
   "metadata": {},
   "outputs": [
    {
     "data": {
      "text/plain": [
       "torch.Size([1250])"
      ]
     },
     "execution_count": 8,
     "metadata": {},
     "output_type": "execute_result"
    }
   ],
   "source": [
    "expert_actions.shape"
   ]
  },
  {
   "cell_type": "markdown",
   "metadata": {},
   "source": [
    "### Evaluate the Expert Policy"
   ]
  },
  {
   "cell_type": "code",
   "execution_count": 9,
   "metadata": {},
   "outputs": [],
   "source": [
    "import torch\n",
    "import numpy as np\n",
    "\n",
    "def evaluate_policy_for_expert(policy_func, num_episodes=50, threshold=0.1, h_dim=128, device=device):\n",
    "    env = make_env()\n",
    "    avg_rewards = []\n",
    "\n",
    "    for episode in range(num_episodes):\n",
    "        obs, _ = env.reset()\n",
    "        total_reward = 0\n",
    "        rnn_actor = torch.zeros((2, 1, h_dim), device=device)\n",
    "\n",
    "        while env.agents:\n",
    "            actions, rnn_actor = policy_func(obs, rnn_actor, deterministic=True)\n",
    "            obs, rewards, done, _, _ = env.step(actions)\n",
    "            total_reward += sum(rewards.values())\n",
    "\n",
    "        avg_rewards.append(total_reward)\n",
    "\n",
    "    env.close()\n",
    "    return {\n",
    "        \"avg_reward\": np.mean(avg_rewards),\n",
    "    }\n"
   ]
  },
  {
   "cell_type": "code",
   "execution_count": 10,
   "metadata": {},
   "outputs": [
    {
     "name": "stdout",
     "output_type": "stream",
     "text": [
      "Expert Policy Evaluation: {'avg_reward': np.float64(-32.29947563258387)}\n"
     ]
    }
   ],
   "source": [
    "# Evaluate the expert policy\n",
    "expert_eval = evaluate_policy_for_expert(expert_policy, num_episodes=20)\n",
    "print(\"Expert Policy Evaluation:\", expert_eval)\n"
   ]
  },
  {
   "cell_type": "markdown",
   "metadata": {},
   "source": [
    "# Policy Evaluation Function"
   ]
  },
  {
   "cell_type": "code",
   "execution_count": 11,
   "metadata": {},
   "outputs": [],
   "source": [
    "def learned_policy(policies, obs, device=device):\n",
    "    \"\"\"\n",
    "    Retrieves actions from the learned policy networks for both agents based on observations.\n",
    "\n",
    "    Args:\n",
    "        policies (dict): Dictionary mapping agent names to their Policy network instances.\n",
    "        obs (dict): Dictionary of observations for each agent.\n",
    "        device (str): Device to perform computations on (\"cuda:0\" or \"cpu\").\n",
    "\n",
    "    Returns:\n",
    "        dict: Dictionary mapping agent names to selected actions.\n",
    "    \"\"\"\n",
    "    actions = {}\n",
    "    for agent in obs:\n",
    "        policy = policies[agent]\n",
    "        # Convert observation to tensor and move to device\n",
    "        obs_tensor = torch.FloatTensor(obs[agent]).to(device)\n",
    "        with torch.no_grad():\n",
    "            # Get action probabilities from the policy network\n",
    "            action_probs = policy(obs_tensor)\n",
    "            # Select the action with the highest probability\n",
    "            action = torch.argmax(action_probs).item()\n",
    "        actions[agent] = action\n",
    "    return actions\n",
    "\n",
    "def evaluate_policy_for_training(policies, num_episodes=50, threshold=0.1, device=device):\n",
    "    \"\"\"\n",
    "    Evaluates the performance of learned policies over multiple episodes.\n",
    "\n",
    "    Args:\n",
    "        policies (dict): Dictionary of Policy networks for each agent.\n",
    "        num_episodes (int): Number of episodes to run for evaluation (default: 50).\n",
    "        threshold (float): Distance threshold to determine success (default: 0.1).\n",
    "        device (str): Device to perform computations on (default: \"cuda:0\" or \"cpu\").\n",
    "\n",
    "    Returns:\n",
    "        dict: Dictionary containing evaluation metrics:\n",
    "              - \"success_rate\": Mean success rate across episodes.\n",
    "              - \"avg_reward\": Mean total reward per episode.\n",
    "              - \"avg_steps\": Mean number of steps per episode.\n",
    "    \"\"\"\n",
    "    # Set to evaluation mode to switch off dropout\n",
    "    for policy in policies.values():\n",
    "        policy.eval()\n",
    "\n",
    "    # Initialize the environment\n",
    "    env = make_env()\n",
    "    avg_rewards = []\n",
    "\n",
    "    # Run evaluation over specified number of episodes\n",
    "    for episode in range(num_episodes):\n",
    "        obs, _ = env.reset()\n",
    "        total_reward = 0\n",
    "\n",
    "        # Run the episode\n",
    "        while env.agents:\n",
    "            # Get actions using the learned policy\n",
    "            actions = learned_policy(policies, obs, device)\n",
    "            # Step the environment\n",
    "            obs, rewards, done, _, _ = env.step(actions)\n",
    "            total_reward += sum(rewards.values())  # Sum rewards from both agents\n",
    "\n",
    "        avg_rewards.append(total_reward)\n",
    "\n",
    "    # Clean up environment resources\n",
    "    env.close()\n",
    "\n",
    "    # Compute and return average metrics\n",
    "    return {\n",
    "        \"avg_reward\": np.mean(avg_rewards),\n",
    "    }"
   ]
  },
  {
   "cell_type": "markdown",
   "metadata": {},
   "source": [
    "# MAGAIL Training"
   ]
  },
  {
   "cell_type": "markdown",
   "metadata": {},
   "source": [
    "## Define MAGAIL Networks"
   ]
  },
  {
   "cell_type": "code",
   "execution_count": null,
   "metadata": {},
   "outputs": [],
   "source": [
    "import torch\n",
    "import torch.nn as nn\n",
    "\n",
    "# Policy Networks (one per agent)\n",
    "class Policy(nn.Module):\n",
    "    def __init__(self, obs_dim, act_dim, hidden_dim=64):\n",
    "        super().__init__()\n",
    "        self.net = nn.Sequential(\n",
    "            nn.Linear(obs_dim, hidden_dim),\n",
    "            nn.ReLU(),\n",
    "            nn.Linear(hidden_dim, act_dim),\n",
    "            nn.Softmax(dim=-1)\n",
    "        )\n",
    "    \n",
    "    def forward(self, x):\n",
    "        return self.net(x)\n",
    "\n",
    "# Discriminator Networks (one per agent)\n",
    "# Output the probability of (s,a) Coming from the EXPERT\n",
    "class Discriminator(nn.Module):\n",
    "    def __init__(self, obs_dim, act_dim, hidden_dim=64):\n",
    "        super().__init__()\n",
    "        self.net = nn.Sequential(\n",
    "            nn.Linear(obs_dim + act_dim, hidden_dim),\n",
    "            nn.ReLU(),\n",
    "            nn.Linear(hidden_dim, 1),\n",
    "            nn.Sigmoid())\n",
    "    \n",
    "    def forward(self, state, action):\n",
    "        return self.net(torch.cat([state, action], dim=-1))\n",
    "    \n",
    "# Value Network as baseline\n",
    "class ValueNet(nn.Module):\n",
    "    def __init__(self, obs_dim, hidden_dim=64):\n",
    "        super().__init__()\n",
    "        self.net = nn.Sequential(\n",
    "            nn.Linear(obs_dim, hidden_dim),\n",
    "            nn.ReLU(),\n",
    "            nn.Linear(hidden_dim, 1)\n",
    "        )\n",
    "    \n",
    "    def forward(self, x):\n",
    "        return self.net(x)\n",
    "\n",
    "\n",
    "# Initialize Networks \n",
    "\n",
    "policies = {}\n",
    "discriminators = {}\n",
    "value_nets = {}\n",
    "\n",
    "for a in all_agents:\n",
    "    policies[a] = Policy(obs_dim=obs_dims[a], act_dim=act_dims[a], hidden_dim=hid_dims[a]).to(device)\n",
    "\n",
    "    # For Discriminator the output is a single value\n",
    "    discriminators[a] = Discriminator(obs_dim=obs_dims[a], act_dim=act_dims[a], hidden_dim=hid_dims[a]).to(device)\n",
    "\n",
    "    # Initialize value networks to reduce variance (actor critic)\n",
    "    value_nets[a] = ValueNet(obs_dim=obs_dims[a], hidden_dim=hid_dims[a]).to(device)\n"
   ]
  },
  {
   "cell_type": "markdown",
   "metadata": {},
   "source": [
    "## Training MAGAIL Loop"
   ]
  },
  {
   "cell_type": "code",
   "execution_count": null,
   "metadata": {},
   "outputs": [],
   "source": [
    "all_expert_rewards = []  # Store all expert rewards\n",
    "all_episode_rewards = []  # Store all episode rewards\n",
    "\n",
    "def train_magail(expert_data, num_epochs=1000, batch_size=32):\n",
    "    \n",
    "    optimizers = {\n",
    "        agent: {\n",
    "            \"policy\": torch.optim.Adam(policies[agent].parameters(), lr=1e-3),\n",
    "            \"disc\": torch.optim.Adam(discriminators[agent].parameters(), lr=1e-3),\n",
    "            \"value\": torch.optim.Adam(value_nets[agent].parameters(), lr=1e-3)\n",
    "        } for agent in all_agents\n",
    "    }\n",
    "\n",
    "    for epoch in range(num_epochs):\n",
    "        \n",
    "        policy_data = collect_policy_trajectories(policies, batch_size=batch_size)\n",
    "\n",
    "        # --- Update discriminators ---\n",
    "        for agent in all_agents:\n",
    "            update_discriminators(agent, expert_data, policy_data, optimizers, batch_size)\n",
    "        \n",
    "        # --- Update policies and value (Actor Critic) ---\n",
    "        for agent in all_agents:\n",
    "            update_policies(agent, policy_data, optimizers, batch_size)\n",
    "            \n",
    "        # Diagnostic\n",
    "        print_diagnostics(epoch)\n",
    "\n",
    "    env.close()\n",
    "\n",
    "def collect_policy_trajectories(policies, batch_size=32):\n",
    "    env = make_env()\n",
    "    policy_data = {agent: {\"states\": [], \"actions\": []} for agent in env.agents}\n",
    "    obs, _ = env.reset()\n",
    "    agent = env.agents[0]\n",
    "    policy_data_length = len(policy_data[agent][\"states\"])\n",
    "    while policy_data_length < batch_size:\n",
    "        while env.agents:\n",
    "            actions = {}\n",
    "            for agent in env.agents:\n",
    "                obs_tensor = torch.FloatTensor(obs[agent]).to(device)\n",
    "                action_probs = policies[agent](obs_tensor)\n",
    "                # Simpling by probability - ensure exploration\n",
    "                # Similar with Epsilon-Greedy, but used in policy-based algorithms. Epsilon-Greedy is in valued based\n",
    "                action = torch.multinomial(action_probs, 1).item()\n",
    "                actions[agent] = action\n",
    "                policy_data[agent][\"states\"].append(obs[agent])\n",
    "                policy_data[agent][\"actions\"].append(action)\n",
    "            \n",
    "            obs, rewards, terminations, truncations, infos= env.step(actions)\n",
    "        env.reset()    \n",
    "        policy_data_length = len(policy_data[agent][\"states\"])\n",
    "\n",
    "    return policy_data\n",
    "\n",
    "def sample_batch_state_action_pairs(data, agent, batch_size=32):\n",
    "    '''data: dict: agent -> {\"states\": [], \"actions\": []}\n",
    "    returns: (batch_states, batch_actions) converted to tensor\n",
    "    '''\n",
    "    # Sample Expert data\n",
    "    states = torch.FloatTensor(data[agent][\"states\"]).to(device)\n",
    "    actions = torch.LongTensor(data[agent][\"actions\"]).to(device)\n",
    "\n",
    "    sample_indices = np.random.choice(len(states), batch_size, replace=False)\n",
    "    batch_states = states[sample_indices]\n",
    "    batch_actions = actions[sample_indices]\n",
    "\n",
    "    return batch_states, batch_actions\n",
    "\n",
    "def update_discriminators(agent, expert_data, policy_data, optimizers, batch_size):\n",
    "    # Sample batch from dataset\n",
    "    expert_states, expert_actions = sample_batch_state_action_pairs(expert_data, agent, batch_size)\n",
    "    policy_states, policy_actions = sample_batch_state_action_pairs(policy_data, agent, batch_size)\n",
    "    \n",
    "    # One-hot encode actions (different for speaker/listener)\n",
    "    num_classes = act_dims[agent]\n",
    "    expert_actions_onehot = torch.nn.functional.one_hot(expert_actions, num_classes=num_classes).float().to(device)\n",
    "    policy_actions_onehot = torch.nn.functional.one_hot(policy_actions, num_classes=num_classes).float().to(device)\n",
    "\n",
    "    # Discriminator loss\n",
    "    # max[log(D(expert)) + log(1 - D(policy))] => min[-log(D(expert)) - log(1 - D(policy))], \n",
    "    real_loss = -torch.log(discriminators[agent](expert_states, expert_actions_onehot)).mean()\n",
    "    fake_loss = -torch.log(1 - discriminators[agent](policy_states, policy_actions_onehot)).mean()\n",
    "    disc_loss = real_loss + fake_loss\n",
    "    \n",
    "    optimizers[agent][\"disc\"].zero_grad()\n",
    "    disc_loss.backward()\n",
    "    optimizers[agent][\"disc\"].step()\n",
    "\n",
    "def update_policies(agent, policy_data, optimizers, batch_size):\n",
    "    policy_states, policy_actions = sample_batch_state_action_pairs(policy_data, agent, batch_size)\n",
    "    # One-hot encode actions (different for speaker/listener)\n",
    "    num_classes = act_dims[agent]\n",
    "    policy_actions_onehot = torch.nn.functional.one_hot(policy_actions, num_classes=num_classes).float().to(device)\n",
    "\n",
    "    # Adversarial reward: log(D(s,a))\n",
    "    # D(s,a) How much the descrimiator think it is from the expert, and we wanna maximize this reward\n",
    "    with torch.no_grad():\n",
    "\n",
    "        # MAGAIL paper section 4.1 \n",
    "        # Implicitly, Di - discriminators plays the role of a reward function for the generator, \n",
    "        # which in turn attempts to train the agent to maximize its reward thus fooling the discriminator\n",
    "        generator_rewards = torch.log(discriminators[agent](policy_states, policy_actions_onehot))\n",
    "\n",
    "        # Compute value baseline\n",
    "        values = value_nets[agent](policy_states)\n",
    "        # Compute advantages \n",
    "        # TD error: (actual reward - estimate(baseline))\n",
    "        # Then use this advantage as reward/reinforce signal\n",
    "        advantages = generator_rewards - values.squeeze()\n",
    "\n",
    "    # Update value network (MSE Loss)\n",
    "    value_loss = (values.squeeze() - generator_rewards).pow(2).mean()\n",
    "    # Should always clear the gradient before update\n",
    "    optimizers[agent][\"value\"].zero_grad()\n",
    "    value_loss.backward()\n",
    "    optimizers[agent][\"value\"].step()\n",
    "\n",
    "    # Policy gradient\n",
    "    action_probs = policies[agent](policy_states)\n",
    "\n",
    "    # Expirement with entropy\n",
    "    # entropy = -torch.sum(action_probs * torch.log(action_probs + 1e-10), dim=-1).mean()  # Avoid log(0)\n",
    "\n",
    "    log_probs = torch.log(action_probs.gather(1, policy_actions.unsqueeze(1)))\n",
    "\n",
    "    # If we didn't call advantage.detach(), the gradients would flow through the advantage tensor, and the value network's parameters would be updated using the policy loss, which is not what we want.\n",
    "    # Policy gradient reinforced by advantage\n",
    "    # TODO we are not using any nature policy gradient TRPO/PPO, but in paper it used\n",
    "    policy_loss = -(log_probs * advantages.detach()).mean()\n",
    "    \n",
    "    optimizers[agent][\"policy\"].zero_grad()\n",
    "    policy_loss.backward()\n",
    "    optimizers[agent][\"policy\"].step()\n",
    "\n",
    "def print_diagnostics(epoch):\n",
    "    if epoch % 50 == 0:\n",
    "        print(\"------------------------------------------------------\")\n",
    "        training_eval_stats = evaluate_policy_for_training(policies, num_episodes=20)\n",
    "        print(f\"Epoch {epoch}: Avg Reward={training_eval_stats['avg_reward']:.2f}\")\n",
    "        all_episode_rewards.append(training_eval_stats[\"avg_reward\"])\n",
    "\n",
    "        # expert_eval = evaluate_policy_for_expert(expert_policy, num_episodes=20)\n",
    "        all_expert_rewards.append(expert_mean_reward)\n",
    "        print(f\"Expert Policy: Avg Reward={expert_mean_reward}\")"
   ]
  },
  {
   "cell_type": "markdown",
   "metadata": {},
   "source": [
    "## Training"
   ]
  },
  {
   "cell_type": "code",
   "execution_count": 14,
   "metadata": {},
   "outputs": [
    {
     "name": "stdout",
     "output_type": "stream",
     "text": [
      "------------------------------------------------------\n",
      "Epoch 0: Avg Reward=-157.39\n",
      "Expert Policy: Avg Reward=-39.53\n",
      "------------------------------------------------------\n",
      "Epoch 50: Avg Reward=-335.35\n",
      "Expert Policy: Avg Reward=-39.53\n",
      "------------------------------------------------------\n",
      "Epoch 100: Avg Reward=-118.02\n",
      "Expert Policy: Avg Reward=-39.53\n",
      "------------------------------------------------------\n",
      "Epoch 150: Avg Reward=-190.97\n",
      "Expert Policy: Avg Reward=-39.53\n",
      "------------------------------------------------------\n",
      "Epoch 200: Avg Reward=-371.39\n",
      "Expert Policy: Avg Reward=-39.53\n",
      "------------------------------------------------------\n",
      "Epoch 250: Avg Reward=-193.14\n",
      "Expert Policy: Avg Reward=-39.53\n",
      "------------------------------------------------------\n",
      "Epoch 300: Avg Reward=-76.62\n",
      "Expert Policy: Avg Reward=-39.53\n",
      "------------------------------------------------------\n",
      "Epoch 350: Avg Reward=-68.86\n",
      "Expert Policy: Avg Reward=-39.53\n",
      "------------------------------------------------------\n",
      "Epoch 400: Avg Reward=-75.56\n",
      "Expert Policy: Avg Reward=-39.53\n",
      "------------------------------------------------------\n",
      "Epoch 450: Avg Reward=-41.72\n",
      "Expert Policy: Avg Reward=-39.53\n",
      "------------------------------------------------------\n",
      "Epoch 500: Avg Reward=-53.82\n",
      "Expert Policy: Avg Reward=-39.53\n",
      "------------------------------------------------------\n",
      "Epoch 550: Avg Reward=-50.23\n",
      "Expert Policy: Avg Reward=-39.53\n",
      "------------------------------------------------------\n",
      "Epoch 600: Avg Reward=-51.81\n",
      "Expert Policy: Avg Reward=-39.53\n",
      "------------------------------------------------------\n",
      "Epoch 650: Avg Reward=-62.57\n",
      "Expert Policy: Avg Reward=-39.53\n",
      "------------------------------------------------------\n",
      "Epoch 700: Avg Reward=-56.08\n",
      "Expert Policy: Avg Reward=-39.53\n",
      "------------------------------------------------------\n",
      "Epoch 750: Avg Reward=-45.40\n",
      "Expert Policy: Avg Reward=-39.53\n",
      "------------------------------------------------------\n",
      "Epoch 800: Avg Reward=-39.33\n",
      "Expert Policy: Avg Reward=-39.53\n",
      "------------------------------------------------------\n",
      "Epoch 850: Avg Reward=-50.12\n",
      "Expert Policy: Avg Reward=-39.53\n",
      "------------------------------------------------------\n",
      "Epoch 900: Avg Reward=-31.14\n",
      "Expert Policy: Avg Reward=-39.53\n",
      "------------------------------------------------------\n",
      "Epoch 950: Avg Reward=-63.48\n",
      "Expert Policy: Avg Reward=-39.53\n"
     ]
    }
   ],
   "source": [
    "train_magail(expert_data, num_epochs=1000, batch_size=32)"
   ]
  },
  {
   "cell_type": "markdown",
   "metadata": {},
   "source": [
    "# Plotting Training Results"
   ]
  },
  {
   "cell_type": "code",
   "execution_count": null,
   "metadata": {},
   "outputs": [
    {
     "data": {
      "image/png": "[encoded data removed]",
      "text/plain": [
       "<Figure size 2000x600 with 1 Axes>"
      ]
     },
     "metadata": {},
     "output_type": "display_data"
    }
   ],
   "source": [
    "import os\n",
    "import matplotlib.pyplot as plt\n",
    "import numpy as np\n",
    "from datetime import datetime\n",
    "\n",
    "\n",
    "epochs = range(0, len(all_episode_rewards) * 50, 50)  # X-axis: epochs (0, 50, 100, ...)\n",
    "\n",
    "\n",
    "# Create the plot\n",
    "plt.figure(figsize=(20, 6))\n",
    "plt.plot(epochs, all_episode_rewards, label='Policy', marker='o', color='blue')\n",
    "plt.plot(epochs, all_expert_rewards, label='Expert', marker='x', color='red')\n",
    "\n",
    "# Customize the plot\n",
    "plt.xlabel('Epochs')\n",
    "plt.ylabel('Average Reward')\n",
    "plt.title('MAGAIL: Learnt Policy vs Expert Rewards (Evaluated Every 50 Epochs)')\n",
    "plt.grid(True, linestyle='--', alpha=0.7)\n",
    "plt.legend()\n",
    "plt.xticks(epochs)  # Show epoch numbers on x-axis\n",
    "\n",
    "\n",
    "# Save plot\n",
    "os.makedirs(\"plots\", exist_ok=True)\n",
    "timestamp = datetime.now().strftime(\"%Y-%m-%d_%H-%M\")\n",
    "save_path = f\"plots/magail_{timestamp}.png\"\n",
    "plt.savefig(save_path, dpi=300, bbox_inches='tight')\n",
    "\n",
    "\n",
    "# Display the plot\n",
    "plt.show()"
   ]
  }
 ],
 "metadata": {
  "kernelspec": {
   "display_name": "Multi-Agent-General",
   "language": "python",
   "name": "python3"
  },
  "language_info": {
   "codemirror_mode": {
    "name": "ipython",
    "version": 3
   },
   "file_extension": ".py",
   "mimetype": "text/x-python",
   "name": "python",
   "nbconvert_exporter": "python",
   "pygments_lexer": "ipython3",
   "version": "3.11.11"
  }
 },
 "nbformat": 4,
 "nbformat_minor": 2
}
