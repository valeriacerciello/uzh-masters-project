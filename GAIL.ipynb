{
 "cells": [
  {
   "cell_type": "code",
   "execution_count": 1,
   "metadata": {},
   "outputs": [],
   "source": [
    "import gymnasium as gym\n",
    "import numpy as np"
   ]
  },
  {
   "cell_type": "markdown",
   "metadata": {},
   "source": [
    "## Expert Data\n",
    "\n",
    "Use pre-trained DQN as expert policy https://github.com/Wangyuxuan-xuan/DQN-Flappybird/blob/main/runs/cartpole2.pt\n",
    "Use expert policy to generate expert data\n",
    "\n",
    "Set a limit with max_steps_per_trajectory to control the length of trajectory"
   ]
  },
  {
   "cell_type": "code",
   "execution_count": 2,
   "metadata": {},
   "outputs": [
    {
     "data": {
      "text/plain": [
       "ExpertDQN(\n",
       "  (fc1): Linear(in_features=4, out_features=10, bias=True)\n",
       "  (fc2): Linear(in_features=10, out_features=2, bias=True)\n",
       ")"
      ]
     },
     "execution_count": 2,
     "metadata": {},
     "output_type": "execute_result"
    }
   ],
   "source": [
    "import torch\n",
    "import torch.nn as nn\n",
    "\n",
    "class ExpertDQN(nn.Module):\n",
    "    def __init__(self, state_dim=4, action_dim=2, hidden_dim=10):\n",
    "        super().__init__()\n",
    "        self.fc1 = nn.Linear(state_dim, hidden_dim)\n",
    "        self.fc2 = nn.Linear(hidden_dim, action_dim)\n",
    "\n",
    "    def forward(self, x):\n",
    "        x = torch.relu(self.fc1(x))\n",
    "        return self.fc2(x)\n",
    "\n",
    "# Load pre-trained expert\n",
    "expert = ExpertDQN(hidden_dim=10)\n",
    "expert.load_state_dict(torch.load(\"Expert_data\\cartpole2.pt\"))\n",
    "expert.eval()  # Set to evaluation mode"
   ]
  },
  {
   "cell_type": "code",
   "execution_count": 3,
   "metadata": {},
   "outputs": [],
   "source": [
    "def generate_expert_data(num_trajectories, max_steps_per_trajectory=200):\n",
    "    env = gym.make(\"CartPole-v1\")\n",
    "    expert_states = []\n",
    "    expert_actions = []\n",
    "    \n",
    "    for _ in range(num_trajectories):\n",
    "        state, _ = env.reset()\n",
    "        done = False\n",
    "        step = 0\n",
    "        while not done and step < max_steps_per_trajectory:\n",
    "            with torch.no_grad():\n",
    "                q_values = expert(torch.FloatTensor(state))\n",
    "                action = torch.argmax(q_values).item()\n",
    "            \n",
    "            expert_states.append(state)\n",
    "            expert_actions.append(action)\n",
    "            state, _, done, _, _ = env.step(action)\n",
    "\n",
    "            step += 1\n",
    "\n",
    "    env.close()\n",
    "    return np.array(expert_states), np.array(expert_actions)\n",
    "\n",
    "# Generate expert data using your trained DQN\n",
    "expert_states, expert_actions = generate_expert_data(num_trajectories=200, max_steps_per_trajectory=100)"
   ]
  },
  {
   "cell_type": "code",
   "execution_count": 4,
   "metadata": {},
   "outputs": [
    {
     "data": {
      "text/plain": [
       "(array([[-0.01943445,  0.03626017,  0.00092384,  0.00421819],\n",
       "        [-0.01870925,  0.23136887,  0.00100821, -0.2881731 ],\n",
       "        [-0.01408187,  0.03623255, -0.00475525,  0.00482763],\n",
       "        ...,\n",
       "        [ 0.07319589, -0.18640901,  0.00114871,  0.30078515],\n",
       "        [ 0.06946771,  0.00869655,  0.00716441,  0.00846472],\n",
       "        [ 0.06964163,  0.20371503,  0.00733371, -0.28194916]],\n",
       "       dtype=float32),\n",
       " array([1, 0, 1, ..., 1, 1, 0]))"
      ]
     },
     "execution_count": 4,
     "metadata": {},
     "output_type": "execute_result"
    }
   ],
   "source": [
    "expert_states, expert_actions"
   ]
  },
  {
   "cell_type": "code",
   "execution_count": 5,
   "metadata": {},
   "outputs": [],
   "source": [
    "def test_expert():\n",
    "    env = gym.make(\"CartPole-v1\", render_mode=\"human\")\n",
    "    state, _ = env.reset()\n",
    "    done = False\n",
    "    total_reward = 0\n",
    "    \n",
    "    while not done:\n",
    "        q_values = expert(torch.FloatTensor(state))\n",
    "        action = torch.argmax(q_values).item()\n",
    "        state, reward, done, _, _ = env.step(action)\n",
    "        total_reward += reward\n",
    "    \n",
    "    print(f\"Expert reward: {total_reward}\")\n",
    "    env.close()\n",
    "\n",
    "# test_expert()"
   ]
  },
  {
   "cell_type": "markdown",
   "metadata": {},
   "source": [
    "## Define Policy and Discriminator Networks\n",
    "The discriminator networks Concatenate state and action, This allows the network to learn a joint representation of the state and action"
   ]
  },
  {
   "cell_type": "code",
   "execution_count": 6,
   "metadata": {},
   "outputs": [],
   "source": [
    "import torch\n",
    "import torch.nn as nn\n",
    "import torch.optim as optim\n",
    "\n",
    "class Policy(nn.Module):\n",
    "    def __init__(self, state_dim, action_dim, hidden_dim=64):\n",
    "        super().__init__()\n",
    "        self.net = nn.Sequential(\n",
    "            nn.Linear(state_dim, hidden_dim),\n",
    "            nn.ReLU(),\n",
    "            nn.Linear(hidden_dim, action_dim),\n",
    "            nn.Softmax(dim=-1)\n",
    "        )\n",
    "    \n",
    "    def forward(self, state):\n",
    "        return self.net(state)\n",
    "\n",
    "class Discriminator(nn.Module):\n",
    "    def __init__(self, state_dim, action_dim, hidden_dim = 64):\n",
    "        super().__init__()\n",
    "        self.net = nn.Sequential(\n",
    "            nn.Linear(state_dim + action_dim, hidden_dim),\n",
    "            nn.ReLU(),\n",
    "            nn.Linear(hidden_dim, 1),\n",
    "            nn.Sigmoid()\n",
    "        )\n",
    "    \n",
    "    # Concatenate state and action, This allows the network to learn a joint representation of the state and action\n",
    "    def forward(self, state, action):\n",
    "        sa = torch.cat([state, action], dim=-1)\n",
    "        return self.net(sa)\n",
    "\n",
    "# Initialize networks\n",
    "state_dim = 4  # CartPole state dimension\n",
    "action_dim = 2 # CartPole action space (0 or 1)\n",
    "policy = Policy(state_dim, action_dim)\n",
    "discriminator = Discriminator(state_dim, 1)  # Action is 0/1, so we encode as 0 or 1\n",
    "\n",
    "# # Test networks\n",
    "# state = torch.randn(1, state_dim)\n",
    "# action = torch.randint(0, 2, (1, 1))\n",
    "# print(\"Policy output:\", policy(state).shape)\n",
    "# print(\"Discriminator output:\", discriminator(state, action).shape)"
   ]
  },
  {
   "cell_type": "markdown",
   "metadata": {},
   "source": [
    "## Train GAIL\n",
    "\n",
    "#### Loss in GAN\n",
    "The discriminator's loss in GANs is usually something like maximizing log(D(real)) + log(1 - D(fake)), where D(real) is the probability that real data is real, and D(fake) is the probability that fake data is real\n",
    "\n",
    "Entropy Term\n",
    "$$\n",
    "H(\\pi(\\cdot \\mid s)) = - \\sum_{a \\in \\mathcal{A}} \\pi(a \\mid s) \\log (\\pi(a \\mid s))\n",
    "$$\n"
   ]
  },
  {
   "cell_type": "code",
   "execution_count": null,
   "metadata": {},
   "outputs": [],
   "source": [
    "all_episode_rewards = []\n",
    "window_len = 100\n",
    "def train_gail(expert_states, expert_actions, num_epochs=100, batch_size=32, λ=0.1):\n",
    "    # Initialize optimizers\n",
    "    policy_optim = optim.Adam(policy.parameters(), lr=1e-3)\n",
    "    disc_optim = optim.Adam(discriminator.parameters(), lr=1e-3)\n",
    "    \n",
    "    for epoch in range(num_epochs):\n",
    "        # --- Step 1: Sample trajectories from current policy ---\n",
    "        env = gym.make(\"CartPole-v1\")\n",
    "        policy_states, policy_actions = [], []\n",
    "        state, _ = env.reset()\n",
    "        episode_reward = 0\n",
    "        done = False\n",
    "\n",
    "\n",
    "        while not done:\n",
    "            state_tensor = torch.FloatTensor(state)\n",
    "            action_probs = policy(state_tensor)  # Get action probabilities from policy\n",
    "            action = torch.distributions.Categorical(action_probs).sample().item()  # Sample action\n",
    "            policy_states.append(state)\n",
    "            policy_actions.append(action)\n",
    "            state, reward, done, _, _ = env.step(action)  # Execute action in environment\n",
    "            episode_reward += reward\n",
    "        \n",
    "        all_episode_rewards.append(episode_reward)\n",
    "        \n",
    "        # --- Step 2: Update Discriminator ---\n",
    "        # Prepare expert and policy data as state-action pairs\n",
    "        expert_sa = torch.cat([\n",
    "            torch.FloatTensor(expert_states),\n",
    "            torch.FloatTensor(expert_actions).unsqueeze(1)  # Shape: (N, state_dim + 1)\n",
    "        ], dim=1)\n",
    "        policy_sa = torch.cat([\n",
    "            torch.FloatTensor(policy_states),\n",
    "            torch.FloatTensor(policy_actions).unsqueeze(1)  # Shape: (M, state_dim + 1)\n",
    "        ], dim=1)\n",
    "        \n",
    "        # Discriminator loss components:\n",
    "        # - Maximize log(D(expert_sa)): Expert labeled as \"real\"\n",
    "        # - Maximize log(1 - D(policy_sa)): Policy labeled as \"fake\"\n",
    "        real_output = discriminator(expert_sa[:, :4], expert_sa[:, 4:])  # D(expert_sa)\n",
    "        fake_output = discriminator(policy_sa[:, :4], policy_sa[:, 4:])   # D(policy_sa)\n",
    "        real_loss = -torch.log(real_output).mean()  # -E[log(D(expert))]\n",
    "        fake_loss = -torch.log(1 - fake_output).mean()  # -E[log(1 - D(policy))]\n",
    "        disc_loss = real_loss + fake_loss  # Total loss\n",
    "        \n",
    "        # Update discriminator\n",
    "        disc_optim.zero_grad()\n",
    "        disc_loss.backward()\n",
    "        disc_optim.step()\n",
    "        \n",
    "        # --- Step 3: Update Policy using Discriminator as Reward ---\n",
    "        # Convert policy data to tensors\n",
    "        policy_states_tensor = torch.FloatTensor(policy_states)\n",
    "        policy_actions_tensor = torch.FloatTensor(policy_actions).unsqueeze(1)\n",
    "        \n",
    "        # Compute rewards: log(D(s,a)) \n",
    "        # the discriminator is not exactly a reward function, \n",
    "        # but rather a way to estimate the likelihood of a state-action pair being from the expert's policy.\n",
    "        # If the discriminator thinks it is more likely from expert then it will give a higher reward\n",
    "        # Thus we can use this as a reward signal to reinforce the actions that can fool the discriminator better\n",
    "        with torch.no_grad():\n",
    "            rewards = torch.log(discriminator(policy_states_tensor, policy_actions_tensor))\n",
    "        \n",
    "        # Compute policy loss:\n",
    "        # L = -E[log(π(a|s)) * reward] - λ * entropy(π)\n",
    "        action_probs = policy(policy_states_tensor)\n",
    "        entropy = -torch.sum(action_probs * torch.log(action_probs + 1e-10), dim=-1).mean()  # Avoid log(0)\n",
    "        log_probs = torch.log(action_probs.gather(1, policy_actions_tensor.long()))  # log(π(a|s))\n",
    "        # TODO mind the sign of entropy here\n",
    "        # Here we flip the sign cuz we wanna minimizing\n",
    "        # We wanna maximizing/reinforce the action with high reward, that equals to minimizing the negative reward\n",
    "        # The entropy is positive, thus minimizing the negative entropy is maximizing the entropy\n",
    "\n",
    "        # Policy gradient reinforced by direct rewards Q(s,a), using descriminator as reward signal\n",
    "        policy_loss = -(log_probs * rewards).mean() - λ * entropy\n",
    "        \n",
    "        # Update policy\n",
    "        policy_optim.zero_grad() \n",
    "        policy_loss.backward()\n",
    "        policy_optim.step()\n",
    "        \n",
    "        if epoch % 100 == 0:\n",
    "            print(f\"Epoch {epoch}: Disc Loss = {disc_loss.item():.3f}, Policy Loss = {policy_loss.item():.3f}\")\n",
    "\n",
    "            print(f\"Mean rewards for last {window_len} episodes : {mean_last_episodes(all_episode_rewards, window_len)}\" )\n",
    "\n",
    "def mean_last_episodes(rewards, n=20):\n",
    "    if len(rewards) < n:\n",
    "        return 0\n",
    "    return np.mean(rewards[-n:])"
   ]
  },
  {
   "cell_type": "code",
   "execution_count": 8,
   "metadata": {},
   "outputs": [
    {
     "name": "stderr",
     "output_type": "stream",
     "text": [
      "C:\\Users\\wangy\\AppData\\Local\\Temp\\ipykernel_61588\\3274586349.py:35: UserWarning: Creating a tensor from a list of numpy.ndarrays is extremely slow. Please consider converting the list to a single numpy.ndarray with numpy.array() before converting to a tensor. (Triggered internally at C:\\actions-runner\\_work\\pytorch\\pytorch\\pytorch\\torch\\csrc\\utils\\tensor_new.cpp:257.)\n",
      "  torch.FloatTensor(policy_states),\n"
     ]
    },
    {
     "name": "stdout",
     "output_type": "stream",
     "text": [
      "Epoch 0: Disc Loss = 1.352, Policy Loss = -0.631\n",
      "Mean rewards for last 100 episodes : 0\n",
      "Epoch 100: Disc Loss = 1.302, Policy Loss = -0.558\n",
      "Mean rewards for last 100 episodes : 18.73\n",
      "Epoch 200: Disc Loss = 1.245, Policy Loss = -0.586\n",
      "Mean rewards for last 100 episodes : 26.11\n",
      "Epoch 300: Disc Loss = 1.211, Policy Loss = -0.568\n",
      "Mean rewards for last 100 episodes : 34.27\n",
      "Epoch 400: Disc Loss = 1.133, Policy Loss = -0.590\n",
      "Mean rewards for last 100 episodes : 44.43\n",
      "Epoch 500: Disc Loss = 1.136, Policy Loss = -0.638\n",
      "Mean rewards for last 100 episodes : 54.89\n",
      "Epoch 600: Disc Loss = 0.985, Policy Loss = -0.747\n",
      "Mean rewards for last 100 episodes : 68.11\n",
      "Epoch 700: Disc Loss = 1.091, Policy Loss = -0.551\n",
      "Mean rewards for last 100 episodes : 63.76\n",
      "Epoch 800: Disc Loss = 1.096, Policy Loss = -0.668\n",
      "Mean rewards for last 100 episodes : 76.51\n",
      "Epoch 900: Disc Loss = 0.923, Policy Loss = -0.801\n",
      "Mean rewards for last 100 episodes : 65.26\n",
      "Epoch 1000: Disc Loss = 0.991, Policy Loss = -0.608\n",
      "Mean rewards for last 100 episodes : 72.01\n",
      "Epoch 1100: Disc Loss = 0.994, Policy Loss = -0.709\n",
      "Mean rewards for last 100 episodes : 72.62\n",
      "Epoch 1200: Disc Loss = 0.943, Policy Loss = -0.702\n",
      "Mean rewards for last 100 episodes : 69.14\n",
      "Epoch 1300: Disc Loss = 0.851, Policy Loss = -1.157\n",
      "Mean rewards for last 100 episodes : 75.95\n",
      "Epoch 1400: Disc Loss = 1.110, Policy Loss = -0.782\n",
      "Mean rewards for last 100 episodes : 72.35\n",
      "Epoch 1500: Disc Loss = 0.748, Policy Loss = -1.025\n",
      "Mean rewards for last 100 episodes : 72.77\n",
      "Epoch 1600: Disc Loss = 0.762, Policy Loss = -1.217\n",
      "Mean rewards for last 100 episodes : 78.04\n",
      "Epoch 1700: Disc Loss = 0.593, Policy Loss = -2.181\n",
      "Mean rewards for last 100 episodes : 80.59\n",
      "Epoch 1800: Disc Loss = 0.455, Policy Loss = -2.937\n",
      "Mean rewards for last 100 episodes : 88.85\n",
      "Epoch 1900: Disc Loss = 0.555, Policy Loss = -2.071\n",
      "Mean rewards for last 100 episodes : 85.5\n"
     ]
    }
   ],
   "source": [
    "train_gail(expert_states, expert_actions, num_epochs=2000, batch_size=32, λ=0.1)"
   ]
  },
  {
   "cell_type": "code",
   "execution_count": 9,
   "metadata": {},
   "outputs": [],
   "source": [
    "def test_policy(policy, num_episodes=10):\n",
    "    env = gym.make(\"CartPole-v1\", render_mode=\"human\")\n",
    "    for _ in range(num_episodes):\n",
    "        state, _ = env.reset()\n",
    "        done = False\n",
    "        while not done:\n",
    "            with torch.no_grad():\n",
    "                action_probs = policy(torch.FloatTensor(state))\n",
    "            action = torch.argmax(action_probs).item()  # Take most probable action\n",
    "            state, _, done, _, _ = env.step(action)\n",
    "    env.close()\n",
    "\n",
    "# test_policy(policy)"
   ]
  },
  {
   "cell_type": "code",
   "execution_count": 11,
   "metadata": {},
   "outputs": [
    {
     "data": {
      "image/png": "[encoded data removed]",
      "text/plain": [
       "<Figure size 1000x500 with 1 Axes>"
      ]
     },
     "metadata": {},
     "output_type": "display_data"
    }
   ],
   "source": [
    "import numpy as np\n",
    "import matplotlib.pyplot as plt\n",
    "\n",
    "def plot_learning_curve(episode_rewards, window=1):\n",
    "    plt.figure(figsize=(10, 5))\n",
    "    \n",
    "    if window > 1:\n",
    "        # Compute moving average\n",
    "        smoothed = np.convolve(episode_rewards, np.ones(window)/window, mode='valid')\n",
    "        x = np.arange(window-1, len(episode_rewards))  # Align x-axis with smoothed data\n",
    "        plt.plot(x, smoothed, label=f\"Moving Average (window={window})\", color='orange')\n",
    "        # Optionally plot original with low opacity\n",
    "        # plt.plot(episode_rewards, label=\"Original\", alpha=0.1, color='blue')\n",
    "    else:\n",
    "        plt.plot(episode_rewards, label=\"Agent\")\n",
    "    \n",
    "    plt.xlabel(\"Episode\")\n",
    "    plt.ylabel(\"Total Reward\")\n",
    "    plt.title(f\"Total reward per {window} episode\")\n",
    "    plt.legend()\n",
    "    plt.show()\n",
    "\n",
    "# Example: Plot with a 100-episode moving average\n",
    "plot_learning_curve(all_episode_rewards, window=100)"
   ]
  }
 ],
 "metadata": {
  "kernelspec": {
   "display_name": "Multi-Agent-General",
   "language": "python",
   "name": "python3"
  },
  "language_info": {
   "codemirror_mode": {
    "name": "ipython",
    "version": 3
   },
   "file_extension": ".py",
   "mimetype": "text/x-python",
   "name": "python",
   "nbconvert_exporter": "python",
   "pygments_lexer": "ipython3",
   "version": "3.11.11"
  }
 },
 "nbformat": 4,
 "nbformat_minor": 2
}
