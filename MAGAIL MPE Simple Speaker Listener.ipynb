{
 "cells": [
  {
   "cell_type": "code",
   "metadata": {
    "ExecuteTime": {
     "end_time": "2025-05-13T12:16:41.731400Z",
     "start_time": "2025-05-13T12:16:39.155995Z"
    }
   },
   "source": [
    "from enum import EnumType, Enum\n",
    "\n",
    "import torch\n",
    "import torch.nn as nn\n",
    "import torch.optim as optim\n",
    "import numpy as np\n",
    "from numpy.f2py.auxfuncs import throw_error\n",
    "from pettingzoo.mpe import simple_speaker_listener_v4\n",
    "from scipy.ndimage import label\n",
    "\n",
    "\n",
    "def make_env():\n",
    "    env = simple_speaker_listener_v4.parallel_env(continuous_actions=False, render_mode=\"rgb_array\", max_cycles=25)\n",
    "    env.reset()\n",
    "    return env\n",
    "\n",
    "def make_env_human():\n",
    "    env = simple_speaker_listener_v4.parallel_env(continuous_actions=False, render_mode=\"human\", max_cycles=25)\n",
    "    env.reset()\n",
    "    return env\n",
    "\n",
    "class DiscType(Enum):\n",
    "    DECENTRALIZED = \"decentralized\"\n",
    "    CENTRALIZED = \"centralized\"\n",
    "    SINGLE = \"single\"\n"
   ],
   "outputs": [],
   "execution_count": 1
  },
  {
   "metadata": {},
   "cell_type": "markdown",
   "source": "# Test the Environment"
  },
  {
   "metadata": {
    "ExecuteTime": {
     "end_time": "2025-05-13T12:16:42.075792Z",
     "start_time": "2025-05-13T12:16:41.732957Z"
    }
   },
   "cell_type": "code",
   "source": [
    "env = make_env()\n",
    "observations, infos = env.reset()  # returns a dict\n",
    "observations\n",
    "# env.action_space"
   ],
   "outputs": [
    {
     "data": {
      "text/plain": [
       "{'speaker_0': array([0.15, 0.65, 0.15], dtype=float32),\n",
       " 'listener_0': array([ 0.        ,  0.        ,  1.7358745 , -1.7991768 ,  0.30866563,\n",
       "        -1.5044935 ,  1.0100026 , -1.5746374 ,  0.        ,  0.        ,\n",
       "         0.        ], dtype=float32)}"
      ]
     },
     "execution_count": 2,
     "metadata": {},
     "output_type": "execute_result"
    }
   ],
   "execution_count": 2
  },
  {
   "metadata": {},
   "cell_type": "markdown",
   "source": "**Here we can see that the global state is a concatenation of local observations**"
  },
  {
   "metadata": {
    "ExecuteTime": {
     "end_time": "2025-05-13T12:16:42.142148Z",
     "start_time": "2025-05-13T12:16:42.137785Z"
    }
   },
   "cell_type": "code",
   "source": "env.state()",
   "outputs": [
    {
     "data": {
      "text/plain": [
       "array([ 0.15      ,  0.65      ,  0.15      ,  0.        ,  0.        ,\n",
       "        1.7358745 , -1.7991768 ,  0.30866563, -1.5044935 ,  1.0100026 ,\n",
       "       -1.5746374 ,  0.        ,  0.        ,  0.        ], dtype=float32)"
      ]
     },
     "execution_count": 3,
     "metadata": {},
     "output_type": "execute_result"
    }
   ],
   "execution_count": 3
  },
  {
   "metadata": {
    "ExecuteTime": {
     "end_time": "2025-05-13T12:16:42.151209Z",
     "start_time": "2025-05-13T12:16:42.148208Z"
    }
   },
   "cell_type": "code",
   "source": "print(\"Agents:\", env.agents)  # ['speaker_0', 'listener_0']",
   "outputs": [
    {
     "name": "stdout",
     "output_type": "stream",
     "text": [
      "Agents: ['speaker_0', 'listener_0']\n"
     ]
    }
   ],
   "execution_count": 4
  },
  {
   "cell_type": "markdown",
   "metadata": {},
   "source": [
    "# Hyperparameters"
   ]
  },
  {
   "cell_type": "code",
   "metadata": {
    "ExecuteTime": {
     "end_time": "2025-05-13T12:16:42.230315Z",
     "start_time": "2025-05-13T12:16:42.173333Z"
    }
   },
   "source": [
    "device = \"cuda:0\" if torch.cuda.is_available() else \"cpu\"\n",
    "\n",
    "USE_KFAC = False\n",
    "\n",
    "DISC_TYPE = DiscType.DECENTRALIZED\n",
    "total_training_runs = 5\n",
    "training_epochs = 1000\n",
    "\n",
    "centralized_learning_rate = 3e-4 # Try 3e-4\n",
    "centralized_weight_decay = 0.2\n",
    "\n",
    "decentralized_learning_rate = 1e-3\n",
    "decentralized_weight_decay = 1e-3\n",
    "\n",
    "policy_learning_rate = 1e-3\n",
    "policy_learning_rate_kfac = 1e-2\n",
    "\n",
    "value_learning_rate = 1e-3\n",
    "\n",
    "num_expert_episodes = 200\n",
    "BATCH_SIZE = 64\n",
    "PPO_EPOCHS = 10\n",
    "PPO_CLIP = 0.1\n",
    "ENTROPY_COEF = 0\n",
    "\n",
    "# Two layers network, applied for discriminator, policy and value network\n",
    "all_hid_dim = 256\n",
    "\n",
    "\n"
   ],
   "outputs": [],
   "execution_count": 5
  },
  {
   "metadata": {},
   "cell_type": "markdown",
   "source": "# Environment Variables"
  },
  {
   "metadata": {
    "ExecuteTime": {
     "end_time": "2025-05-13T12:16:42.240763Z",
     "start_time": "2025-05-13T12:16:42.236833Z"
    }
   },
   "cell_type": "code",
   "source": [
    "# Agent dimensions\n",
    "speaker_obs_dim = 3     #[goal_id]\n",
    "listener_obs_dim = 11 #[self_vel, all_landmark_rel_positions, communication]\n",
    "\n",
    "speaker_act_dim = 3\n",
    "listener_act_dim = 5 # [no_action, move_left, move_right, move_down, move_up]\n",
    "\n",
    "all_agents = env.agents\n",
    "\n",
    "obs_dims = {\n",
    "    \"speaker_0\": speaker_obs_dim,\n",
    "    \"listener_0\": listener_obs_dim\n",
    "}\n",
    "\n",
    "act_dims = {\n",
    "    \"speaker_0\": speaker_act_dim,\n",
    "    \"listener_0\": listener_act_dim\n",
    "}\n",
    "\n",
    "hid_dims = {\n",
    "    \"speaker_0\": all_hid_dim,\n",
    "    \"listener_0\": all_hid_dim\n",
    "}\n",
    "\n",
    "# Evaluated from 5000 expert episodes\n",
    "expert_mean_reward = -39.53"
   ],
   "outputs": [],
   "execution_count": 6
  },
  {
   "cell_type": "markdown",
   "metadata": {},
   "source": [
    "# Expert Demonstrations\n",
    "Load the expert policy from paper Inverse Factorized Soft Q-Learning for Cooperative Multi-agent Imitation Learning\n"
   ]
  },
  {
   "cell_type": "code",
   "metadata": {
    "ExecuteTime": {
     "end_time": "2025-05-13T12:16:42.483891Z",
     "start_time": "2025-05-13T12:16:42.248025Z"
    }
   },
   "source": [
    "# Load the expert policy\n",
    "expert_policies = torch.jit.load(\"Expert_data/simple_speaker_listener.pt\").to(device)\n",
    "expert_policies.eval()\n",
    "\n",
    "# Try to retrieve h_dim from the policy, fallback to 128\n",
    "try:\n",
    "    h_dim = expert_policies.h_dim\n",
    "    print(f\"Retrieved h_dim: {h_dim}\")\n",
    "except AttributeError:\n",
    "    h_dim = 128  # From error message\n",
    "    print(\"h_dim not accessible, using 128\")\n",
    "\n",
    "def expert_policy(obs, rnn_actor, deterministic=True):\n",
    "    with torch.no_grad():\n",
    "        # Convert observations to tensors\n",
    "        obs_speaker = torch.FloatTensor(obs[\"speaker_0\"]).to(device)\n",
    "        obs_listener = torch.FloatTensor(obs[\"listener_0\"]).to(device)\n",
    "        # Pad speaker's observation (3) to match listener’s (11)\n",
    "        obs_speaker_padded = torch.nn.functional.pad(obs_speaker, (0, 11 - 3))\n",
    "        obs_batch = torch.stack([obs_speaker_padded, obs_listener], dim=0)\n",
    "\n",
    "        # Define masks and available actions\n",
    "        masks = torch.ones((2, 1), dtype=torch.bool, device=device)  # For 2 agents\n",
    "        avails = torch.ones((2, 5), dtype=torch.float32, device=device)  # Assuming 5 actions per agent\n",
    "\n",
    "        # Forward pass through the policy\n",
    "        actions, _, new_rnn_actor = expert_policies._forward(\n",
    "            obs_batch, rnn_actor, masks, avails, deterministic\n",
    "        )\n",
    "        actions_dict = {\n",
    "            \"speaker_0\": actions[0].item(),\n",
    "            \"listener_0\": actions[1].item()\n",
    "        }\n",
    "        return actions_dict, new_rnn_actor\n",
    "\n",
    "def generate_expert_data_decentralized(num_episodes=50):\n",
    "    env = make_env()  # Assuming this is defined elsewhere\n",
    "\n",
    "    # TODO should change the data structure to actually store tuple (s,a)\n",
    "    expert_data = {agent: {\"states\": [], \"actions\": []} for agent in env.agents}\n",
    "\n",
    "    for _ in range(num_episodes):\n",
    "        obs, _ = env.reset()\n",
    "        # Initialize rnn_actor with shape (n_agents, 1, h_dim) on device\n",
    "        rnn_actor = torch.zeros((2, 1, h_dim), device=device)\n",
    "\n",
    "        while env.agents:\n",
    "            actions, rnn_actor = expert_policy(obs, rnn_actor, deterministic=True)\n",
    "            for agent in env.agents:\n",
    "                expert_data[agent][\"states\"].append(obs[agent])\n",
    "                expert_data[agent][\"actions\"].append(actions[agent])\n",
    "                joint_state = env.state()\n",
    "            obs, rewards, terminations, truncations, infos = env.step(actions)\n",
    "\n",
    "    env.close()\n",
    "    return expert_data\n",
    "\n",
    "def convert_decentralized_data_to_centralized(decentralized_data):\n",
    "    \"\"\"\n",
    "    Converts decentralized expert data to centralized format.\n",
    "\n",
    "    Args:\n",
    "        decentralized_data (dict): Decentralized expert data with the structure:\n",
    "            {\n",
    "                agent1: {\"states\": [state1, state2, ...], \"actions\": [action1, action2, ...]},\n",
    "                agent2: {\"states\": [state1, state2, ...], \"actions\": [action1, action2, ...]},\n",
    "                ...\n",
    "            }\n",
    "    Returns:\n",
    "        dict: Centralized expert data with the structure:\n",
    "            {\n",
    "                \"global_states\": [state1, state2, ...],\n",
    "                \"joint_actions\": [actions1, actions2, ...],\n",
    "            }\n",
    "    \"\"\"\n",
    "    centralized_expert_data = {\n",
    "        \"joint_states\": [],  # Global states across all agents\n",
    "        \"joint_actions\": []   # Joint actions per global state\n",
    "    }\n",
    "\n",
    "    # Ensure we use the same length throughout agents\n",
    "    num_samples = len(decentralized_data[all_agents[0]][\"states\"])  # Extract the length from first agent\n",
    "\n",
    "    for i in range(num_samples):\n",
    "        # Combine states of all agents into a global state\n",
    "        global_state = []\n",
    "        for agent in decentralized_data:\n",
    "            global_state.extend(decentralized_data[agent][\"states\"][i])\n",
    "        centralized_expert_data[\"joint_states\"].append(global_state)\n",
    "\n",
    "        # Collect actions from all agents into a joint action\n",
    "        joint_action = [decentralized_data[agent][\"actions\"][i] for agent in decentralized_data]\n",
    "        centralized_expert_data[\"joint_actions\"].append(joint_action)\n",
    "\n",
    "    return centralized_expert_data\n"
   ],
   "outputs": [
    {
     "name": "stdout",
     "output_type": "stream",
     "text": [
      "Retrieved h_dim: 128\n"
     ]
    }
   ],
   "execution_count": 7
  },
  {
   "metadata": {
    "ExecuteTime": {
     "end_time": "2025-05-13T12:16:42.515150Z",
     "start_time": "2025-05-13T12:16:42.489913Z"
    }
   },
   "cell_type": "code",
   "source": [
    "import pickle\n",
    "\n",
    "with open(\"Expert_data/expert_data_rllib_simple_listener_speaker_200.pickle\", \"rb\") as f:\n",
    "    decentralized_expert_data = pickle.load(f)"
   ],
   "outputs": [],
   "execution_count": 8
  },
  {
   "cell_type": "code",
   "metadata": {
    "ExecuteTime": {
     "end_time": "2025-05-13T12:16:42.524849Z",
     "start_time": "2025-05-13T12:16:42.522471Z"
    }
   },
   "source": [
    "# Generate data\n",
    "# decentralized_expert_data = generate_expert_data_decentralized(num_episodes=num_expert_episodes)\n",
    "\n",
    "if DISC_TYPE == DiscType.CENTRALIZED:\n",
    "    centralized_expert_data = convert_decentralized_data_to_centralized(decentralized_expert_data)\n"
   ],
   "outputs": [],
   "execution_count": 9
  },
  {
   "metadata": {
    "ExecuteTime": {
     "end_time": "2025-05-13T12:16:42.535500Z",
     "start_time": "2025-05-13T12:16:42.531154Z"
    }
   },
   "cell_type": "code",
   "source": "decentralized_expert_data[\"speaker_0\"][\"states\"][0]",
   "outputs": [
    {
     "data": {
      "text/plain": [
       "array([0.65, 0.15, 0.15], dtype=float32)"
      ]
     },
     "execution_count": 10,
     "metadata": {},
     "output_type": "execute_result"
    }
   ],
   "execution_count": 10
  },
  {
   "metadata": {
    "ExecuteTime": {
     "end_time": "2025-05-13T12:16:42.544975Z",
     "start_time": "2025-05-13T12:16:42.540965Z"
    }
   },
   "cell_type": "code",
   "source": "decentralized_expert_data[\"listener_0\"][\"states\"][0]",
   "outputs": [
    {
     "data": {
      "text/plain": [
       "array([ 0.        ,  0.        ,  0.38652334, -0.8218666 ,  0.06429983,\n",
       "       -0.0642081 ,  0.1613173 , -0.11578473,  0.        ,  0.        ,\n",
       "        0.        ], dtype=float32)"
      ]
     },
     "execution_count": 11,
     "metadata": {},
     "output_type": "execute_result"
    }
   ],
   "execution_count": 11
  },
  {
   "metadata": {
    "ExecuteTime": {
     "end_time": "2025-05-13T12:16:42.570836Z",
     "start_time": "2025-05-13T12:16:42.550534Z"
    }
   },
   "cell_type": "code",
   "source": [
    "centralized_expert_data = convert_decentralized_data_to_centralized(decentralized_expert_data)\n",
    "centralized_expert_data[\"joint_states\"][0]"
   ],
   "outputs": [
    {
     "data": {
      "text/plain": [
       "[np.float32(0.65),\n",
       " np.float32(0.15),\n",
       " np.float32(0.15),\n",
       " np.float32(0.0),\n",
       " np.float32(0.0),\n",
       " np.float32(0.38652334),\n",
       " np.float32(-0.8218666),\n",
       " np.float32(0.06429983),\n",
       " np.float32(-0.0642081),\n",
       " np.float32(0.1613173),\n",
       " np.float32(-0.11578473),\n",
       " np.float32(0.0),\n",
       " np.float32(0.0),\n",
       " np.float32(0.0)]"
      ]
     },
     "execution_count": 12,
     "metadata": {},
     "output_type": "execute_result"
    }
   ],
   "execution_count": 12
  },
  {
   "metadata": {},
   "cell_type": "markdown",
   "source": "Shape Checking"
  },
  {
   "cell_type": "code",
   "metadata": {
    "ExecuteTime": {
     "end_time": "2025-05-13T12:16:42.589317Z",
     "start_time": "2025-05-13T12:16:42.577862Z"
    }
   },
   "source": [
    "if DISC_TYPE == DiscType.CENTRALIZED:\n",
    "    expert_states = torch.FloatTensor(centralized_expert_data[\"joint_states\"]).to(device)\n",
    "    expert_actions = torch.LongTensor(centralized_expert_data[\"joint_actions\"]).to(device)\n",
    "elif DISC_TYPE == DiscType.DECENTRALIZED:\n",
    "    agent = \"speaker_0\"\n",
    "    expert_states = torch.FloatTensor(decentralized_expert_data[agent][\"states\"]).to(device)\n",
    "    expert_actions = torch.LongTensor(decentralized_expert_data[agent][\"actions\"]).to(device)\n"
   ],
   "outputs": [
    {
     "name": "stderr",
     "output_type": "stream",
     "text": [
      "C:\\Users\\wangy\\AppData\\Local\\Temp\\ipykernel_32604\\1424354168.py:6: UserWarning: Creating a tensor from a list of numpy.ndarrays is extremely slow. Please consider converting the list to a single numpy.ndarray with numpy.array() before converting to a tensor. (Triggered internally at C:\\actions-runner\\_work\\pytorch\\pytorch\\pytorch\\torch\\csrc\\utils\\tensor_new.cpp:257.)\n",
      "  expert_states = torch.FloatTensor(decentralized_expert_data[agent][\"states\"]).to(device)\n"
     ]
    }
   ],
   "execution_count": 13
  },
  {
   "cell_type": "code",
   "metadata": {
    "ExecuteTime": {
     "end_time": "2025-05-13T12:16:42.650193Z",
     "start_time": "2025-05-13T12:16:42.646189Z"
    }
   },
   "source": [
    "expert_states.shape"
   ],
   "outputs": [
    {
     "data": {
      "text/plain": [
       "torch.Size([9800, 3])"
      ]
     },
     "execution_count": 14,
     "metadata": {},
     "output_type": "execute_result"
    }
   ],
   "execution_count": 14
  },
  {
   "cell_type": "code",
   "metadata": {
    "ExecuteTime": {
     "end_time": "2025-05-13T12:16:42.662378Z",
     "start_time": "2025-05-13T12:16:42.659571Z"
    }
   },
   "source": "expert_actions.shape",
   "outputs": [
    {
     "data": {
      "text/plain": [
       "torch.Size([9800])"
      ]
     },
     "execution_count": 15,
     "metadata": {},
     "output_type": "execute_result"
    }
   ],
   "execution_count": 15
  },
  {
   "metadata": {
    "ExecuteTime": {
     "end_time": "2025-05-13T12:16:42.675656Z",
     "start_time": "2025-05-13T12:16:42.671657Z"
    }
   },
   "cell_type": "code",
   "source": "expert_actions.cpu().numpy()",
   "outputs": [
    {
     "data": {
      "text/plain": [
       "array([2, 2, 2, ..., 2, 2, 2])"
      ]
     },
     "execution_count": 16,
     "metadata": {},
     "output_type": "execute_result"
    }
   ],
   "execution_count": 16
  },
  {
   "cell_type": "markdown",
   "metadata": {},
   "source": [
    "### Evaluate the Expert Policy"
   ]
  },
  {
   "cell_type": "code",
   "metadata": {
    "ExecuteTime": {
     "end_time": "2025-05-13T12:16:42.688370Z",
     "start_time": "2025-05-13T12:16:42.683887Z"
    }
   },
   "source": [
    "def evaluate_policy_for_expert(policy_func, num_episodes=50, threshold=0.1, h_dim=128, device=device):\n",
    "    env = make_env()\n",
    "    avg_rewards = []\n",
    "\n",
    "    for episode in range(num_episodes):\n",
    "        obs, _ = env.reset()\n",
    "        total_reward = 0\n",
    "        rnn_actor = torch.zeros((2, 1, h_dim), device=device)\n",
    "\n",
    "        while env.agents:\n",
    "            actions, rnn_actor = policy_func(obs, rnn_actor, deterministic=True)\n",
    "            obs, rewards, done, _, _ = env.step(actions)\n",
    "            total_reward += sum(rewards.values())\n",
    "\n",
    "        avg_rewards.append(total_reward)\n",
    "\n",
    "    env.close()\n",
    "    return {\n",
    "        \"avg_reward\": np.mean(avg_rewards),\n",
    "    }\n"
   ],
   "outputs": [],
   "execution_count": 17
  },
  {
   "cell_type": "code",
   "metadata": {
    "ExecuteTime": {
     "end_time": "2025-05-13T12:16:42.699291Z",
     "start_time": "2025-05-13T12:16:42.697295Z"
    }
   },
   "source": [
    "# Evaluate the expert policy\n",
    "# expert_eval = evaluate_policy_for_expert(expert_policy, num_episodes=20)\n",
    "# print(\"Expert Policy Evaluation:\", expert_eval)\n"
   ],
   "outputs": [],
   "execution_count": 18
  },
  {
   "cell_type": "markdown",
   "metadata": {},
   "source": [
    "# Policy Evaluation Function"
   ]
  },
  {
   "cell_type": "code",
   "metadata": {
    "ExecuteTime": {
     "end_time": "2025-05-13T12:16:42.713198Z",
     "start_time": "2025-05-13T12:16:42.708198Z"
    }
   },
   "source": [
    "def learned_policy(policies, obs, device=device):\n",
    "    \"\"\"\n",
    "    Retrieves actions from the learned policy networks for both agents based on observations.\n",
    "\n",
    "    Args:\n",
    "        policies (dict): Dictionary mapping agent names to their Policy network instances.\n",
    "        obs (dict): Dictionary of observations for each agent.\n",
    "        device (str): Device to perform computations on (\"cuda:0\" or \"cpu\").\n",
    "\n",
    "    Returns:\n",
    "        dict: Dictionary mapping agent names to selected actions.\n",
    "    \"\"\"\n",
    "    actions = {}\n",
    "    for agent in obs:\n",
    "        policy = policies[agent]\n",
    "        # Convert observation to tensor and move to device\n",
    "        obs_tensor = torch.FloatTensor(obs[agent]).to(device)\n",
    "        with torch.no_grad():\n",
    "            # Get action probabilities from the policy network\n",
    "            action_probs = policy(obs_tensor)\n",
    "            # Select the action with the highest probability\n",
    "            action = torch.argmax(action_probs).item()\n",
    "        actions[agent] = action\n",
    "    return actions\n",
    "\n",
    "def evaluate_policy_for_training(policies, num_episodes=50, threshold=0.1, device=device):\n",
    "    \"\"\"\n",
    "    Evaluates the performance of learned policies over multiple episodes.\n",
    "\n",
    "    Args:\n",
    "        policies (dict): Dictionary of Policy networks for each agent.\n",
    "        num_episodes (int): Number of episodes to run for evaluation (default: 50).\n",
    "        threshold (float): Distance threshold to determine success (default: 0.1).\n",
    "        device (str): Device to perform computations on (default: \"cuda:0\" or \"cpu\").\n",
    "\n",
    "    Returns:\n",
    "        dict: Dictionary containing evaluation metrics:\n",
    "              - \"success_rate\": Mean success rate across episodes.\n",
    "              - \"avg_reward\": Mean total reward per episode.\n",
    "              - \"avg_steps\": Mean number of steps per episode.\n",
    "    \"\"\"\n",
    "    # Set to evaluation mode to switch off dropout\n",
    "    for policy in policies.values():\n",
    "        policy.eval()\n",
    "\n",
    "    # Initialize the environment\n",
    "    env = make_env()\n",
    "    avg_rewards = []\n",
    "\n",
    "    # Run evaluation over specified number of episodes\n",
    "    for episode in range(num_episodes):\n",
    "        obs, _ = env.reset()\n",
    "        total_reward = 0\n",
    "\n",
    "        # Run the episode\n",
    "        while env.agents:\n",
    "            # Get actions using the learned policy\n",
    "            actions = learned_policy(policies, obs, device)\n",
    "            # Step the environment\n",
    "            obs, rewards, done, _, _ = env.step(actions)\n",
    "            total_reward += sum(rewards.values())  # Sum rewards from both agents\n",
    "\n",
    "        avg_rewards.append(total_reward)\n",
    "\n",
    "    # Clean up environment resources\n",
    "    env.close()\n",
    "\n",
    "    # Compute and return average metrics\n",
    "    return {\n",
    "        \"avg_reward\": np.mean(avg_rewards),\n",
    "    }"
   ],
   "outputs": [],
   "execution_count": 19
  },
  {
   "cell_type": "markdown",
   "metadata": {},
   "source": [
    "# MAGAIL Training"
   ]
  },
  {
   "cell_type": "markdown",
   "metadata": {},
   "source": [
    "## Define MAGAIL Networks"
   ]
  },
  {
   "cell_type": "code",
   "metadata": {
    "ExecuteTime": {
     "end_time": "2025-05-13T12:16:42.735141Z",
     "start_time": "2025-05-13T12:16:42.727007Z"
    }
   },
   "source": [
    "import torch\n",
    "import torch.nn as nn\n",
    "\n",
    "# Policy Networks (one per agent)\n",
    "class Policy(nn.Module):\n",
    "    def __init__(self, obs_dim, act_dim, hidden_dim=64):\n",
    "        super().__init__()\n",
    "        self.net = nn.Sequential(\n",
    "            nn.Linear(obs_dim, hidden_dim),\n",
    "            nn.ReLU(),\n",
    "            nn.Linear(hidden_dim, act_dim),\n",
    "            nn.Softmax(dim=-1)\n",
    "        )\n",
    "    \n",
    "    def forward(self, x):\n",
    "        return self.net(x)\n",
    "\n",
    "# Discriminator Networks (one per agent)\n",
    "# Output the probability of (s,a) Coming from the EXPERT\n",
    "class Discriminator(nn.Module):\n",
    "    def __init__(self, obs_dim, act_dim, hidden_dim=64):\n",
    "        super().__init__()\n",
    "        self.net = nn.Sequential(\n",
    "            nn.Linear(obs_dim + act_dim, hidden_dim),\n",
    "            nn.ReLU(),\n",
    "            nn.Linear(hidden_dim, 1),\n",
    "            nn.Sigmoid())\n",
    "    \n",
    "    def forward(self, state, action):\n",
    "        return self.net(torch.cat([state, action], dim=-1))\n",
    "    \n",
    "# Value Network as baseline\n",
    "class ValueNet(nn.Module):\n",
    "    def __init__(self, obs_dim, hidden_dim=64):\n",
    "        super().__init__()\n",
    "        self.net = nn.Sequential(\n",
    "            nn.Linear(obs_dim, hidden_dim),\n",
    "            nn.ReLU(),\n",
    "            nn.Linear(hidden_dim, 1)\n",
    "        )\n",
    "    \n",
    "    def forward(self, x):\n",
    "        return self.net(x)\n",
    "\n",
    "\n",
    "def init_networks():\n",
    "    # Initialize Networks\n",
    "\n",
    "    if DISC_TYPE == DiscType.CENTRALIZED:\n",
    "        # For Discriminator the output is a single value\n",
    "        joint_state_dim = sum(obs_dims.values())  # Global state dimension\n",
    "        joint_action_dim = sum(act_dims.values())\n",
    "        discriminator_centralized = Discriminator(obs_dim=joint_state_dim, act_dim=joint_action_dim, hidden_dim=hid_dims[all_agents[0]]).to(device)\n",
    "\n",
    "    elif DISC_TYPE == DiscType.DECENTRALIZED:\n",
    "        discriminators = {\n",
    "            a: Discriminator(obs_dim=obs_dims[a], act_dim=act_dims[a], hidden_dim=hid_dims[a]).to(device)\n",
    "            for a in all_agents\n",
    "        }\n",
    "\n",
    "    # Initialize value networks to reduce variance (actor critic)\n",
    "\n",
    "    policies = {\n",
    "        a: Policy(obs_dim=obs_dims[a], act_dim=act_dims[a], hidden_dim=hid_dims[a]).to(device)\n",
    "        for a in all_agents\n",
    "    }\n",
    "\n",
    "    if DISC_TYPE == DiscType.CENTRALIZED:\n",
    "        joint_state_dim = sum(obs_dims.values())  # Global state dimension\n",
    "        value_nets = {}\n",
    "        for agent in all_agents:\n",
    "            value_nets[agent] = ValueNet(joint_state_dim, hid_dims[agent]).to(device)\n",
    "    elif DISC_TYPE == DiscType.DECENTRALIZED:\n",
    "        value_nets = {\n",
    "            agent: ValueNet(obs_dims[agent], hid_dims[agent]).to(device)\n",
    "            for agent in all_agents\n",
    "        }\n",
    "\n",
    "    if DISC_TYPE == DiscType.CENTRALIZED:\n",
    "        return discriminator_centralized, value_nets, policies\n",
    "    elif DISC_TYPE == DiscType.DECENTRALIZED:\n",
    "        return discriminators, value_nets, policies"
   ],
   "outputs": [],
   "execution_count": 20
  },
  {
   "metadata": {
    "ExecuteTime": {
     "end_time": "2025-05-13T12:16:42.748575Z",
     "start_time": "2025-05-13T12:16:42.745094Z"
    }
   },
   "cell_type": "code",
   "source": "sum(act_dims.values())",
   "outputs": [
    {
     "data": {
      "text/plain": [
       "8"
      ]
     },
     "execution_count": 21,
     "metadata": {},
     "output_type": "execute_result"
    }
   ],
   "execution_count": 21
  },
  {
   "cell_type": "markdown",
   "metadata": {},
   "source": [
    "## Training MAGAIL Loop"
   ]
  },
  {
   "metadata": {
    "ExecuteTime": {
     "end_time": "2025-05-13T12:16:42.804318Z",
     "start_time": "2025-05-13T12:16:42.762450Z"
    }
   },
   "cell_type": "code",
   "source": [
    "from torch_kfac import KFAC\n",
    "\n",
    "def train_magail(expert_data, num_epochs=1000, batch_size=32):\n",
    "\n",
    "\n",
    "    # TODO Change this into an object\n",
    "    training_data = {\n",
    "        'expert_rewards': [],\n",
    "        'episode_rewards': [],\n",
    "        'generator_rewards': [],\n",
    "        'advantages': [],\n",
    "        'value_estimates': [],\n",
    "        'policy_losses': [],\n",
    "        'disc_real_prob': [],\n",
    "        'disc_fake_prob': []\n",
    "    }\n",
    "\n",
    "    discriminator, value_nets, policies = init_networks()\n",
    "    optimizers = init_optimizers(discriminator, value_nets, policies)\n",
    "\n",
    "    for epoch in range(num_epochs):\n",
    "\n",
    "        decentralized_policy_data = collect_policy_trajectories(policies, batch_size=batch_size)\n",
    "        centralized_policy_data = convert_decentralized_data_to_centralized(decentralized_policy_data)\n",
    "\n",
    "        # --- Update discriminators ---\n",
    "        real_prob, fake_prob = update_discriminators(discriminator, centralized_policy_data, decentralized_policy_data, optimizers, batch_size)\n",
    "\n",
    "        # --- Update policies and value (Actor Critic) ---\n",
    "        generator_rewards, advantages, value_loss, policy_loss = update_policies(discriminator, value_nets, policies, decentralized_policy_data, centralized_policy_data, optimizers, batch_size)\n",
    "\n",
    "        # Diagnostic\n",
    "        record_and_print_diagnostics(epoch, policies, training_data, generator_rewards, advantages, value_loss, policy_loss, real_prob, fake_prob)\n",
    "\n",
    "\n",
    "    env.close()\n",
    "\n",
    "    return training_data\n",
    "\n",
    "def init_optimizers(discriminator, value_nets, policies):\n",
    "    if USE_KFAC:\n",
    "        optimizers = {\n",
    "        agent: {\n",
    "            # Replace Adam with KFAC for policy\n",
    "            \"policy\": KFAC(\n",
    "                policies[agent],\n",
    "                learning_rate=policy_learning_rate_kfac,  # Typically larger than Adam\n",
    "                damping=1e-2,           # Added to the curvature approximation (Fisher matrix) for numerical stability.  lower damping → lower learning_rate\n",
    "                momentum=0.95,# Similar to Nesterov momentum\n",
    "                momentum_type='regular',\n",
    "                norm_constraint=0.002,       # For KL ≤ 0.001\n",
    "                cov_ema_decay=0.95,\n",
    "                adapt_damping=True,     # Let KFAC adjust damping\n",
    "                update_cov_manually=True  # Required for control\n",
    "            ),\n",
    "            \"value\": torch.optim.Adam(value_nets[agent].parameters(), lr=value_learning_rate)\n",
    "            } for agent in all_agents\n",
    "        }\n",
    "\n",
    "    else:\n",
    "        optimizers = {\n",
    "        agent: {\n",
    "            # Replace Adam with KFAC for policy\n",
    "            \"policy\": torch.optim.Adam(policies[agent].parameters(), lr=policy_learning_rate),\n",
    "            \"value\": torch.optim.Adam(value_nets[agent].parameters(), lr=value_learning_rate)\n",
    "            } for agent in all_agents\n",
    "        }\n",
    "\n",
    "    if DISC_TYPE == DiscType.CENTRALIZED:\n",
    "        optimizers[\"disc\"] = torch.optim.Adam(discriminator.parameters(), lr=centralized_learning_rate, weight_decay=centralized_weight_decay)\n",
    "    elif DISC_TYPE == DiscType.DECENTRALIZED:\n",
    "        for agent in all_agents:\n",
    "            optimizers[agent][\"disc\"] = torch.optim.Adam(discriminator[agent].parameters(), lr=decentralized_learning_rate, weight_decay=decentralized_weight_decay)\n",
    "\n",
    "    # for agent in all_agents:\n",
    "    #     policies[agent].to(device)\n",
    "    return optimizers\n",
    "\n",
    "#region Data sample and processing\n",
    "\n",
    "def collect_policy_trajectories(policies, batch_size=32):\n",
    "    env = make_env()\n",
    "    policy_data = {\n",
    "        agent: {\n",
    "            \"states\": [],\n",
    "            \"actions\": [],\n",
    "            \"log_prob\": [],\n",
    "            \"reward\": [],\n",
    "            \"next_state\": []\n",
    "        }\n",
    "        for agent in env.agents\n",
    "    }\n",
    "    obs, _ = env.reset()\n",
    "    agent = env.agents[0]\n",
    "    policy_data_length = len(policy_data[agent][\"states\"])\n",
    "    while policy_data_length < batch_size:\n",
    "        while env.agents:\n",
    "            actions = {}\n",
    "            for agent in env.agents:\n",
    "                with torch.no_grad():\n",
    "                    obs_tensor = torch.FloatTensor(obs[agent]).to(device)\n",
    "                    action_probs = policies[agent](obs_tensor)\n",
    "\n",
    "                # Add numerical stability checks\n",
    "                if torch.isnan(action_probs).any() or (action_probs < 0).any():\n",
    "                    print(\"Invalid action probabilities detected!\")\n",
    "                    action_probs = torch.softmax(action_probs, dim=-1)  # Force normalization\n",
    "                    action_probs = torch.clamp(action_probs, min=1e-5, max=1-1e-5)\n",
    "\n",
    "                # Simpling by probability - ensure exploration\n",
    "                # Similar with Epsilon-Greedy, but used in policy-based algorithms. Epsilon-Greedy is in valued based\n",
    "                action = torch.multinomial(action_probs, 1).item()\n",
    "                actions[agent] = action\n",
    "\n",
    "                # Data collection\n",
    "                policy_data[agent][\"states\"].append(obs[agent])\n",
    "                policy_data[agent][\"actions\"].append(action)\n",
    "                log_prob = torch.log(action_probs[action].clamp(min=1e-8))\n",
    "                policy_data[agent][\"log_prob\"].append(log_prob)\n",
    "\n",
    "            obs, rewards, terminations, truncations, infos= env.step(actions)\n",
    "\n",
    "            for agent in env.agents:\n",
    "\n",
    "                # with torch.no_grad():\n",
    "                    ## Decentralized\n",
    "                    # TODO encode action\n",
    "                    # reward = torch.log(discriminators[agent](torch.FloatTensor(obs[agent]).to(device), torch.LongTensor(actions[agent]).to(device)))\n",
    "\n",
    "                # policy_data[agent][\"reward\"].append(reward)\n",
    "\n",
    "                if not terminations[agent]:\n",
    "                    policy_data[agent][\"next_state\"].append(obs[agent])\n",
    "                else:\n",
    "                    policy_data[agent][\"next_state\"].append(None)\n",
    "\n",
    "        env.reset()\n",
    "        policy_data_length = len(policy_data[agent][\"states\"])\n",
    "\n",
    "    return policy_data\n",
    "\n",
    "def sample_batch_state_action_pairs(disc_type : DiscType, data, batch_size=32, agent = None, include_log_prob=False):\n",
    "\n",
    "    # Sample Expert data\n",
    "    if disc_type == DiscType.CENTRALIZED:\n",
    "        states = torch.FloatTensor(data[\"joint_states\"]).to(device)\n",
    "        actions = torch.LongTensor(data[\"joint_actions\"]).to(device)\n",
    "        if include_log_prob:\n",
    "            log_probs = torch.stack(data[agent][\"log_prob\"]).to(device)\n",
    "    elif disc_type == DiscType.DECENTRALIZED:\n",
    "        if not agent:\n",
    "            throw_error(\"Please specify the agent in DECENTRALIZED mode\")\n",
    "        states = torch.FloatTensor(data[agent][\"states\"]).to(device)\n",
    "        actions = torch.LongTensor(data[agent][\"actions\"]).to(device)\n",
    "        if include_log_prob:\n",
    "            log_probs = torch.stack(data[agent][\"log_prob\"]).to(device)\n",
    "\n",
    "    # Make sure the (s,a) order does not change\n",
    "    sample_indices = np.random.choice(len(states), batch_size, replace=False)\n",
    "    batch_states = states[sample_indices]\n",
    "    batch_actions = actions[sample_indices]\n",
    "\n",
    "    if include_log_prob:\n",
    "        batch_old_log_probs = log_probs[sample_indices]\n",
    "        return batch_states, batch_actions, batch_old_log_probs\n",
    "\n",
    "    return batch_states, batch_actions\n",
    "\n",
    "def encode_joint_actions(joint_actions):\n",
    "    '''\n",
    "    Convert joint actions to one-hot\n",
    "    action [2,4] => [0,0,1,0,0,0,0,1] joint actions one hot\n",
    "    action [2,3] => [0,0,1,0,0,0,1,0]\n",
    "    :param joint_actions:\n",
    "    :return:\n",
    "    '''\n",
    "    encoded = []\n",
    "    for ja in joint_actions:\n",
    "        speaker_act = torch.nn.functional.one_hot(torch.tensor(ja[0]), speaker_act_dim)\n",
    "        listener_act = torch.nn.functional.one_hot(torch.tensor(ja[1]), listener_act_dim)\n",
    "        encoded.append(torch.cat([speaker_act, listener_act]))\n",
    "    return torch.stack(encoded).to(device)\n",
    "#endregion\n",
    "\n",
    "#region discriminators Networks\n",
    "\n",
    "def update_discriminators(discriminator, centralized_policy_data, decentralized_policy_data, optimizers, batch_size):\n",
    "    if DISC_TYPE == DiscType.CENTRALIZED:\n",
    "        real_prob, fake_prob = update_discriminators_centralized(discriminator, centralized_expert_data, centralized_policy_data, optimizers, batch_size)\n",
    "    elif DISC_TYPE == DiscType.DECENTRALIZED:\n",
    "        for agent in all_agents:\n",
    "           real_prob, fake_prob =  update_discriminators_decentralized(discriminator, agent, decentralized_expert_data, decentralized_policy_data, optimizers, batch_size)\n",
    "\n",
    "    return real_prob, fake_prob\n",
    "\n",
    "def update_discriminators_decentralized(discriminator, agent, expert_data, policy_data, optimizers, batch_size):\n",
    "    # Sample batch from dataset\n",
    "    expert_states, expert_actions = sample_batch_state_action_pairs(DISC_TYPE, expert_data, batch_size, agent)\n",
    "    policy_states, policy_actions = sample_batch_state_action_pairs(DISC_TYPE, policy_data, batch_size, agent)\n",
    "\n",
    "    # One-hot encode actions (different for speaker/listener)\n",
    "    num_classes = act_dims[agent]\n",
    "    expert_actions_onehot = torch.nn.functional.one_hot(expert_actions, num_classes=num_classes).float().to(device)\n",
    "    policy_actions_onehot = torch.nn.functional.one_hot(policy_actions, num_classes=num_classes).float().to(device)\n",
    "\n",
    "    expert_prob, policy_prob = discriminator_backward(discriminator[agent], optimizers[agent][\"disc\"], expert_states, expert_actions_onehot, policy_states, policy_actions_onehot)\n",
    "\n",
    "    return expert_prob, policy_prob\n",
    "\n",
    "def update_discriminators_centralized(discriminator, centralized_expert_data, centralized_policy_data, optimizers, batch_size):\n",
    "    # Centralized update\n",
    "    # Shape [batch_size, 14], [batch_size, 2]\n",
    "    expert_joint_states, expert_joint_actions = sample_batch_state_action_pairs(DISC_TYPE, centralized_expert_data, batch_size)\n",
    "    policy_joint_states, policy_joint_actions = sample_batch_state_action_pairs(DISC_TYPE, centralized_policy_data, batch_size)\n",
    "\n",
    "    expert_joint_actions_onehot = encode_joint_actions(expert_joint_actions)\n",
    "    policy_joint_actions_onehot = encode_joint_actions(policy_joint_actions)\n",
    "\n",
    "    expert_prob, policy_prob = discriminator_backward(discriminator, optimizers[\"disc\"], expert_joint_states, expert_joint_actions_onehot, policy_joint_states, policy_joint_actions_onehot)\n",
    "\n",
    "    return expert_prob, policy_prob\n",
    "\n",
    "def discriminator_backward(discriminator, discriminator_optimizer, expert_states, expert_actions_onehot, policy_states, policy_actions_onehot):\n",
    "\n",
    "    # Discriminator loss\n",
    "    # max[log(D(expert)) + log(1 - D(policy))] => min[-log(D(expert)) - log(1 - D(policy))],\n",
    "\n",
    "    expert_prob = discriminator(expert_states, expert_actions_onehot)\n",
    "    policy_prob = discriminator(policy_states, policy_actions_onehot)\n",
    "\n",
    "    real_loss = -torch.log(expert_prob).mean()\n",
    "    fake_loss = -torch.log(1 - policy_prob).mean()\n",
    "    disc_loss = real_loss + fake_loss\n",
    "\n",
    "    discriminator_optimizer.zero_grad()\n",
    "    disc_loss.backward()\n",
    "    discriminator_optimizer.step()\n",
    "\n",
    "    return expert_prob, policy_prob\n",
    "\n",
    "#endregion\n",
    "\n",
    "#region Policy and Value Networks\n",
    "def update_policies(discriminator, value_nets, policies, decentralized_policy_data, centralized_policy_data, optimizers, batch_size):\n",
    "    for agent in all_agents:\n",
    "        if USE_KFAC:\n",
    "            optimizers[agent][\"policy\"].update_cov()\n",
    "        if DISC_TYPE == DiscType.CENTRALIZED:\n",
    "            generator_rewards, advantages, value_loss, policy_loss = update_policies_centralized(discriminator, value_nets, policies, agent, decentralized_policy_data, centralized_policy_data, optimizers, batch_size)\n",
    "        elif DISC_TYPE == DiscType.DECENTRALIZED:\n",
    "            generator_rewards, advantages, value_loss, policy_loss = update_policies_decentralized(discriminator, value_nets, policies, agent, decentralized_policy_data, optimizers, batch_size)\n",
    "\n",
    "    return  generator_rewards, advantages, value_loss, policy_loss\n",
    "\n",
    "def update_policies_centralized(discriminator, value_nets, policies, agent, decentralized_policy_data, centralized_policy_data, optimizers, batch_size):\n",
    "\n",
    "    # Centralized data\n",
    "    policy_joint_states, policy_joint_actions = sample_batch_state_action_pairs(DISC_TYPE, centralized_policy_data, batch_size)\n",
    "    policy_joint_actions_onehot = encode_joint_actions(policy_joint_actions)# actions [0,0] => [1,0,0,1,0,0,0,0]\n",
    "\n",
    "    # decentralized data\n",
    "    policy_states, policy_actions, old_log_probs = sample_batch_state_action_pairs(disc_type= DiscType.DECENTRALIZED, data=decentralized_policy_data, batch_size=batch_size, agent=agent, include_log_prob=True)\n",
    "\n",
    "    # Adversarial reward: log(D(s,a))\n",
    "    # D(s,a) How much the descrimiator think it is from the expert, and we wanna maximize this reward\n",
    "    with torch.no_grad():\n",
    "\n",
    "        # MAGAIL paper section 4.1\n",
    "        # Implicitly, Di - discriminators plays the role of a reward function for the generator,which in turn attempts to train the agent to maximize its reward thus fooling the discriminator\n",
    "        # In centralized case, this input the joint state actions\n",
    "        generator_rewards = torch.log(discriminator(policy_joint_states, policy_joint_actions_onehot)) # Shape [batch_size,1]\n",
    "\n",
    "        # Compute value baseline\n",
    "        values = value_nets[agent](policy_joint_states) # Shape [batch_size,1]\n",
    "\n",
    "\n",
    "    advantages, policy_loss = update_value_and_policy_network(policies, agent, optimizers, generator_rewards, values, policy_states, policy_actions, old_log_probs)\n",
    "    return generator_rewards, advantages, values.mean(), policy_loss\n",
    "\n",
    "def update_policies_decentralized(discriminator, value_nets, policies, agent, policy_data, optimizers, batch_size):\n",
    "    policy_states, policy_actions, old_log_probs = sample_batch_state_action_pairs(disc_type= DiscType.DECENTRALIZED, data=policy_data, batch_size=batch_size, agent=agent, include_log_prob=True)\n",
    "    # One-hot encode actions (different for speaker/listener)\n",
    "    num_classes = act_dims[agent]\n",
    "    policy_actions_onehot = torch.nn.functional.one_hot(policy_actions, num_classes=num_classes).float().to(device)\n",
    "\n",
    "    # Adversarial reward: log(D(s,a))\n",
    "    # D(s,a) How much the descrimiator think it is from the expert, and we wanna maximize this reward\n",
    "    with torch.no_grad():\n",
    "\n",
    "        # MAGAIL paper section 4.1\n",
    "        # Implicitly, Di - discriminators plays the role of a reward function for the generator,which in turn attempts to train the agent to maximize its reward thus fooling the discriminator\n",
    "        # In decentralized case, this input the local observations and agent's actions\n",
    "        generator_rewards = torch.log(discriminator[agent](policy_states, policy_actions_onehot))\n",
    "\n",
    "        # Compute value baseline\n",
    "        values = value_nets[agent](policy_states)\n",
    "\n",
    "    advantages, policy_loss = update_value_and_policy_network(policies, agent, optimizers, generator_rewards, values, policy_states, policy_actions, old_log_probs)\n",
    "\n",
    "    return generator_rewards, advantages, values.mean(), policy_loss\n",
    "\n",
    "def update_value_and_policy_network(policies, agent, optimizers, generator_rewards, values, decentralized_policy_states, decentralized_policy_actions, old_log_probs):\n",
    "\n",
    "    # Compute advantages\n",
    "    # TD error: (actual reward - estimate(baseline))\n",
    "    # Then use this advantage as reward/reinforce signal\n",
    "    # squeeze() function removes \"trivia\" dim (dimensions of size 1) form tensor's shape\n",
    "    # Here values shape [batch_size, 1] => values.squeeze() => [batch_size] it become a vector\n",
    "    # It can only apply on dimensions of size 1, eg: policy_actions shape [batch_size,2] policy_actions.squeeze().shape is till [batch_size,2]\n",
    "    advantages = generator_rewards - values # Shape [batch_size,1]\n",
    "    advantages = (advantages - advantages.mean()) / (advantages.std() + 1e-8) # Normalize advantage\n",
    "\n",
    "    # Update value network (MSE Loss)\n",
    "    value_loss = (advantages).pow(2).mean()\n",
    "    # Should always clear the gradient before update\n",
    "    value_loss.requires_grad = True\n",
    "    optimizers[agent][\"value\"].zero_grad()\n",
    "    value_loss.backward()\n",
    "    optimizers[agent][\"value\"].step()\n",
    "\n",
    "    if USE_KFAC:\n",
    "        # --- KFAC Policy gradient ---\n",
    "        policy_optimizer = optimizers[agent][\"policy\"]\n",
    "\n",
    "        # Track forward pass\n",
    "        with policy_optimizer.track_forward():\n",
    "            action_probs = policies[agent](decentralized_policy_states)\n",
    "            log_probs = torch.log(action_probs.gather(1, decentralized_policy_actions.unsqueeze(1)))\n",
    "            policy_loss = -(log_probs * advantages.detach()).mean()\n",
    "\n",
    "        # Track backward pass\n",
    "        with policy_optimizer.track_backward():\n",
    "            policy_loss.backward()\n",
    "\n",
    "        # KFAC update steps\n",
    "        policy_optimizer.update_cov()  # Update curvature approximation\n",
    "        policy_optimizer.step(loss=policy_loss)  # Precondition gradients\n",
    "\n",
    "        # In KFAC, the gradient can explode, causing softmax logits to underflow/overflow\n",
    "        # Use clipping as a safeguard\n",
    "        torch.nn.utils.clip_grad_norm_(policies[agent].parameters(), max_norm=0.5)\n",
    "    else:\n",
    "\n",
    "        # PPO Policy update with multiple epochs\n",
    "        policy_loss_total = 0.0\n",
    "        for _ in range(PPO_EPOCHS):\n",
    "            action_probs = policies[agent](decentralized_policy_states)  # [batch_size, act_dim]\n",
    "            new_log_probs = torch.log(\n",
    "                action_probs.gather(1, decentralized_policy_actions.unsqueeze(1)).clamp(min=1e-8)\n",
    "            ).squeeze(1)  # [batch_size]\n",
    "\n",
    "            # Instead of directly compute new_log_probs/old_log_probs, we took log and use e to ensure Numerical Stability\n",
    "            # Cuz in Deep RL action probs can be very small.\n",
    "            ratio = torch.exp(new_log_probs - old_log_probs)  # [batch_size]\n",
    "\n",
    "            # for r in ratio:\n",
    "            #     if r > 1 + PPO_CLIP or r < 1 - PPO_CLIP:\n",
    "            #         print(f\"PPO ratio clipped!! : {r}\")\n",
    "\n",
    "            # TODO While this kind of clipping goes a long way towards ensuring reasonable policy updates, it is still possible to end up with a new policy which is too far from the old policy, and there are a bunch of tricks used by different PPO implementations to stave this off. In our implementation here, we use a particularly simple method: early stopping. If the mean KL-divergence of the new policy from the old grows beyond a threshold, we stop taking gradient steps.\n",
    "\n",
    "            # PPO clipped surrogate objective\n",
    "            surr1 = ratio * advantages.detach().squeeze()\n",
    "            surr2 = torch.clamp(ratio, 1 - PPO_CLIP, 1 + PPO_CLIP) * advantages.detach().squeeze()\n",
    "            policy_loss = -torch.min(surr1, surr2).mean()\n",
    "\n",
    "            # Add entropy bonus for exploration\n",
    "            # entropy = -torch.sum(action_probs * torch.log(action_probs.clamp(min=1e-8)), dim=-1).mean()\n",
    "            # policy_loss = policy_loss - ENTROPY_COEF * entropy\n",
    "\n",
    "            optimizers[agent][\"policy\"].zero_grad()\n",
    "            policy_loss.backward()\n",
    "            torch.nn.utils.clip_grad_norm_(policies[agent].parameters(), max_norm=0.5)  # Gradient clipping\n",
    "            optimizers[agent][\"policy\"].step()\n",
    "\n",
    "            policy_loss_total += policy_loss.item()\n",
    "\n",
    "        policy_loss_avg = policy_loss_total / PPO_EPOCHS\n",
    "\n",
    "    return advantages, torch.tensor(policy_loss_avg)\n",
    "\n",
    "#endregion\n",
    "\n",
    "def record_and_print_diagnostics(epoch, policies, training_data, generator_rewards, advantages, value_loss, policy_loss, real_prob, fake_prob):\n",
    "    if epoch % 50 == 0:\n",
    "        print(\"------------------------------------------------------\")\n",
    "        training_eval_stats = evaluate_policy_for_training(policies, num_episodes=20)\n",
    "        print(f\"Epoch {epoch}: Avg Reward={training_eval_stats['avg_reward']:.2f}\")\n",
    "        training_data[\"episode_rewards\"].append(training_eval_stats[\"avg_reward\"])\n",
    "\n",
    "        # expert_eval = evaluate_policy_for_expert(expert_policy, num_episodes=20)\n",
    "        training_data[\"expert_rewards\"].append(expert_mean_reward)\n",
    "        print(f\"Expert Policy: Avg Reward={expert_mean_reward}\")\n",
    "\n",
    "    training_data[\"generator_rewards\"].append(generator_rewards.detach().cpu().numpy().mean())\n",
    "    training_data[\"advantages\"].append(advantages.detach().cpu().numpy().mean())\n",
    "    training_data[\"value_estimates\"].append(value_loss.detach().cpu().numpy().mean())\n",
    "    training_data[\"policy_losses\"].append(policy_loss.detach().cpu().numpy().mean())\n",
    "\n",
    "    training_data[\"disc_real_prob\"].append(real_prob.detach().cpu().numpy().mean())\n",
    "    training_data[\"disc_fake_prob\"].append(fake_prob.detach().cpu().numpy().mean())\n",
    "\n",
    "    if epoch % 50 == 0 and epoch >= 50:\n",
    "\n",
    "        mean_generator_rewards = np.mean(training_data[\"generator_rewards\"][-50:])\n",
    "        mean_advantages = np.mean(training_data[\"generator_rewards\"][-50:])\n",
    "        mean_value_losses = np.mean(training_data[\"value_estimates\"][-50:])\n",
    "        mean_policy_losses = np.mean(training_data[\"policy_losses\"][-50:])\n",
    "        mean_disc_real_prob = np.mean(training_data[\"disc_real_prob\"][-50:])\n",
    "        mean_disc_fake_prob = np.mean(training_data[\"disc_fake_prob\"][-50:])\n",
    "\n",
    "        print(f\"Epoch {epoch}: disc_real_prob={mean_disc_real_prob:.2f}, disc_fake_prob={mean_disc_fake_prob:.2f}\")\n",
    "        print(\"---\")\n",
    "        # print(f\"Epoch {epoch}: generator_rewards={mean_generator_rewards:.2f}, advantages = {mean_advantages:.2f}, value_loss={mean_value_losses:.2f}, policy_loss={mean_policy_losses:.2f}\")\n",
    "\n",
    "# train_magail(decentralized_expert_data, num_epochs=2, batch_size=BATCH_SIZE)\n"
   ],
   "outputs": [],
   "execution_count": 22
  },
  {
   "cell_type": "markdown",
   "metadata": {},
   "source": [
    "## Training"
   ]
  },
  {
   "metadata": {
    "jupyter": {
     "is_executing": true
    },
    "ExecuteTime": {
     "start_time": "2025-05-13T12:16:42.813825Z"
    }
   },
   "cell_type": "code",
   "source": [
    "import pandas as pd\n",
    "import os\n",
    "\n",
    "folder_path = \"Training_Data\"\n",
    "\n",
    "def save_training_data(run_id, training_data):\n",
    "    epochs = range(0, len(training_data[\"episode_rewards\"]) * 50, 50)\n",
    "\n",
    "    def compute_mean(array):\n",
    "        # Compute windowed means for every 50 epochs (non-overlapping)\n",
    "        window_size = 50\n",
    "        window_means = [np.mean(array[i:i+window_size])\n",
    "                        for i in range(0, len(array), window_size)]\n",
    "        # Prepend the first original value as per request\n",
    "        window_means[0] = array[0]\n",
    "\n",
    "        return window_means\n",
    "\n",
    "    df = pd.DataFrame({\n",
    "        'epoch': epochs,\n",
    "        'expert_rewards': training_data['expert_rewards'],\n",
    "        'episode_rewards': training_data['episode_rewards'],\n",
    "        'generator_rewards': compute_mean(training_data['generator_rewards']),\n",
    "        'advantages': compute_mean(training_data['advantages']),\n",
    "        'value_estimates': compute_mean(training_data['value_estimates']),\n",
    "        'policy_losses': compute_mean(training_data['policy_losses']),\n",
    "        'disc_real_prob': compute_mean(training_data['disc_real_prob']),\n",
    "        'disc_fake_prob': compute_mean(training_data['disc_fake_prob'])\n",
    "    })\n",
    "\n",
    "    df.to_csv(os.path.join(folder_path, f'run_{run_id}.csv'), index=False)  # run_id is a unique identifier for the run\n",
    "\n",
    "for run_id in range(total_training_runs):\n",
    "    training_data = train_magail(decentralized_expert_data, num_epochs=training_epochs, batch_size=BATCH_SIZE)\n",
    "    save_training_data(run_id, training_data)\n",
    "    print(f\"***Finished training run {run_id}***\")\n"
   ],
   "outputs": [
    {
     "name": "stdout",
     "output_type": "stream",
     "text": [
      "------------------------------------------------------\n",
      "Epoch 0: Avg Reward=-260.86\n",
      "Expert Policy: Avg Reward=-39.53\n",
      "------------------------------------------------------\n",
      "Epoch 50: Avg Reward=-213.43\n",
      "Expert Policy: Avg Reward=-39.53\n",
      "Epoch 50: disc_real_prob=0.50, disc_fake_prob=0.44\n",
      "---\n",
      "------------------------------------------------------\n",
      "Epoch 100: Avg Reward=-64.09\n",
      "Expert Policy: Avg Reward=-39.53\n",
      "Epoch 100: disc_real_prob=0.59, disc_fake_prob=0.35\n",
      "---\n",
      "------------------------------------------------------\n",
      "Epoch 0: Avg Reward=-204.39\n",
      "Expert Policy: Avg Reward=-39.53\n",
      "------------------------------------------------------\n",
      "Epoch 50: Avg Reward=-115.65\n",
      "Expert Policy: Avg Reward=-39.53\n",
      "Epoch 50: disc_real_prob=0.49, disc_fake_prob=0.48\n",
      "---\n",
      "------------------------------------------------------\n",
      "Epoch 100: Avg Reward=-83.49\n",
      "Expert Policy: Avg Reward=-39.53\n",
      "Epoch 100: disc_real_prob=0.50, disc_fake_prob=0.45\n",
      "---\n",
      "------------------------------------------------------\n",
      "Epoch 0: Avg Reward=-324.78\n",
      "Expert Policy: Avg Reward=-39.53\n",
      "------------------------------------------------------\n",
      "Epoch 50: Avg Reward=-322.61\n",
      "Expert Policy: Avg Reward=-39.53\n",
      "Epoch 50: disc_real_prob=0.49, disc_fake_prob=0.44\n",
      "---\n",
      "------------------------------------------------------\n",
      "Epoch 100: Avg Reward=-135.75\n",
      "Expert Policy: Avg Reward=-39.53\n",
      "Epoch 100: disc_real_prob=0.56, disc_fake_prob=0.37\n",
      "---\n",
      "------------------------------------------------------\n",
      "Epoch 0: Avg Reward=-187.41\n",
      "Expert Policy: Avg Reward=-39.53\n",
      "------------------------------------------------------\n",
      "Epoch 50: Avg Reward=-110.28\n",
      "Expert Policy: Avg Reward=-39.53\n",
      "Epoch 50: disc_real_prob=0.51, disc_fake_prob=0.41\n",
      "---\n",
      "------------------------------------------------------\n",
      "Epoch 100: Avg Reward=-283.91\n",
      "Expert Policy: Avg Reward=-39.53\n",
      "Epoch 100: disc_real_prob=0.53, disc_fake_prob=0.46\n",
      "---\n",
      "------------------------------------------------------\n",
      "Epoch 0: Avg Reward=-334.37\n",
      "Expert Policy: Avg Reward=-39.53\n"
     ]
    }
   ],
   "execution_count": null
  },
  {
   "cell_type": "markdown",
   "metadata": {},
   "source": [
    "# Plotting Training Results"
   ]
  },
  {
   "metadata": {},
   "cell_type": "markdown",
   "source": "Aggregate Data"
  },
  {
   "metadata": {
    "ExecuteTime": {
     "end_time": "2025-05-17T07:17:59.671783Z",
     "start_time": "2025-05-17T07:17:59.655691Z"
    }
   },
   "cell_type": "code",
   "source": [
    "import pandas as pd\n",
    "import os\n",
    "import glob\n",
    "folder_path = \"Training_Data\"\n",
    "\n",
    "# Read all run files\n",
    "files = glob.glob(os.path.join(folder_path, 'run_*.csv'))\n",
    "dfs = [pd.read_csv(file) for file in files]\n",
    "combined_df = pd.concat(dfs, ignore_index=True)\n",
    "\n",
    "# Compute the mean per epoch\n",
    "avg_df = combined_df.groupby('epoch').mean()\n",
    "std_df = combined_df.groupby('epoch').std()\n",
    "\n"
   ],
   "outputs": [],
   "execution_count": 5
  },
  {
   "cell_type": "code",
   "metadata": {
    "ExecuteTime": {
     "end_time": "2025-05-17T07:21:54.974127Z",
     "start_time": "2025-05-17T07:21:54.505405Z"
    }
   },
   "source": [
    "import matplotlib.pyplot as plt\n",
    "import numpy as np\n",
    "from datetime import datetime\n",
    "\n",
    "\n",
    "epochs = range(0, len(avg_df[\"episode_rewards\"]) * 50, 50)  # X-axis: epochs (0, 50, 100, ...)\n",
    "\n",
    "\n",
    "# Create the plot\n",
    "plt.figure(figsize=(20, 6))\n",
    "plt.plot(epochs, avg_df[\"episode_rewards\"], label='Policy (Mean)', marker='o', color='blue')\n",
    "plt.plot(epochs, avg_df[\"expert_rewards\"], label='Expert (Mean)', marker='x', color='red')\n",
    "\n",
    "# Plot shaded areas for standard deviation\n",
    "plt.fill_between(epochs,\n",
    "                 avg_df[\"episode_rewards\"] - std_df[\"episode_rewards\"],\n",
    "                 avg_df[\"episode_rewards\"] + std_df[\"episode_rewards\"],\n",
    "                 alpha=0.05, color='blue', label='Policy ±1 STD')\n",
    "\n",
    "# Customize the plot\n",
    "plt.xlabel('Epochs')\n",
    "plt.ylabel('Average Reward')\n",
    "plt.title('MAGAIL: Learnt Policy vs Expert Policy')\n",
    "plt.grid(True, linestyle='--', alpha=0.7)\n",
    "plt.legend()\n",
    "plt.xticks(epochs)  # Show epoch numbers on x-axis\n",
    "\n",
    "# Fix the y-axis\n",
    "plt.ylim(-400, 0)\n",
    "\n",
    "# Save plot\n",
    "os.makedirs(\"plots\", exist_ok=True)\n",
    "timestamp = datetime.now().strftime(\"%Y-%m-%d_%H-%M\")\n",
    "save_path = f\"plots/magail_{timestamp}.png\"\n",
    "plt.savefig(save_path, dpi=300, bbox_inches='tight')\n",
    "\n",
    "\n",
    "# Display the plot\n",
    "plt.show()"
   ],
   "outputs": [
    {
     "data": {
      "text/plain": [
       "<Figure size 2000x600 with 1 Axes>"
      ],
      "image/png": "[encoded data removed]"
     },
     "metadata": {},
     "output_type": "display_data"
    }
   ],
   "execution_count": 11
  },
  {
   "metadata": {
    "ExecuteTime": {
     "end_time": "2025-05-17T07:28:27.746797Z",
     "start_time": "2025-05-17T07:28:27.739173Z"
    }
   },
   "cell_type": "code",
   "source": [
    "# Create the plot\n",
    "def plot_dianostics(array_mean, array_std, title):\n",
    "    plt.figure(figsize=(20, 6))\n",
    "\n",
    "    window_size = 50\n",
    "\n",
    "    # Plot the window-averaged data\n",
    "    plt.plot(range(0, len(array_mean) * window_size, window_size), array_mean, color='blue', marker='o', linewidth=2)\n",
    "\n",
    "    # Plot shaded areas for standard deviation\n",
    "    plt.fill_between(epochs,\n",
    "                     array_mean - array_std,\n",
    "                     array_mean + array_std,\n",
    "                     alpha=0.05, color='blue', label='Policy ±1 STD')\n",
    "\n",
    "    # Customize the plot\n",
    "    plt.xlabel('Epochs')\n",
    "    plt.title(title)\n",
    "    plt.grid(True, linestyle='--', alpha=0.7)\n",
    "    plt.legend()\n",
    "    plt.xticks(epochs)  # Show epoch numbers on x-axis\n",
    "\n",
    "    # Fix the y-axis\n",
    "    plt.ylim(-10, 5)\n",
    "\n",
    "    # Display the plot\n",
    "    plt.show()\n"
   ],
   "outputs": [],
   "execution_count": 14
  },
  {
   "metadata": {
    "ExecuteTime": {
     "end_time": "2025-05-17T07:28:30.075969Z",
     "start_time": "2025-05-17T07:28:29.717881Z"
    }
   },
   "cell_type": "code",
   "source": [
    "plot_dianostics(avg_df[\"generator_rewards\"], std_df[\"generator_rewards\"],\"all_generator_rewards\")\n",
    "plot_dianostics(avg_df[\"advantages\"], std_df[\"advantages\"], \"all_advantages\")\n",
    "plot_dianostics(avg_df[\"value_estimates\"], std_df[\"value_estimates\"], \"values_mean\")\n",
    "plot_dianostics(avg_df[\"policy_losses\"], std_df[\"policy_losses\"], \"all_policy_losses\")"
   ],
   "outputs": [
    {
     "data": {
      "text/plain": [
       "<Figure size 2000x600 with 1 Axes>"
      ],
      "image/png": "[encoded data removed]"
     },
     "metadata": {},
     "output_type": "display_data"
    },
    {
     "data": {
      "text/plain": [
       "<Figure size 2000x600 with 1 Axes>"
      ],
      "image/png": "[encoded data removed]"
     },
     "metadata": {},
     "output_type": "display_data"
    },
    {
     "data": {
      "text/plain": [
       "<Figure size 2000x600 with 1 Axes>"
      ],
      "image/png": "[encoded data removed]"
     },
     "metadata": {},
     "output_type": "display_data"
    },
    {
     "data": {
      "text/plain": [
       "<Figure size 2000x600 with 1 Axes>"
      ],
      "image/png": "[encoded data removed]"
     },
     "metadata": {},
     "output_type": "display_data"
    }
   ],
   "execution_count": 15
  },
  {
   "metadata": {
    "ExecuteTime": {
     "end_time": "2025-05-17T07:29:58.704231Z",
     "start_time": "2025-05-17T07:29:58.604586Z"
    }
   },
   "cell_type": "code",
   "source": [
    "def plot_real_fake_prob(real_prob_means, real_prob_std, fake_prob_means, fake_prob_std, title):\n",
    "    plt.figure(figsize=(20, 6))\n",
    "\n",
    "    # Compute windowed means for every 50 epochs (non-overlapping)\n",
    "    window_size = 50\n",
    "\n",
    "    # Plot the window-averaged data\n",
    "    plt.plot(range(0, len(real_prob_means) * window_size, window_size), real_prob_means, color='blue', marker='o', label=\"real prob\", linewidth=2)\n",
    "    plt.plot(range(0, len(fake_prob_means) * window_size, window_size), fake_prob_means, color='red', marker='x', label=\"fake prob\", linewidth=2)\n",
    "\n",
    "    # Plot shaded areas for standard deviation\n",
    "    plt.fill_between(epochs,\n",
    "                     real_prob_means - real_prob_std,\n",
    "                     real_prob_means + real_prob_std,\n",
    "                     alpha=0.05, color='blue', label='real prob ±1 STD')\n",
    "    plt.fill_between(epochs,\n",
    "                     fake_prob_means - fake_prob_std,\n",
    "                     fake_prob_means + fake_prob_std,\n",
    "                     alpha=0.05, color='red', label='fake prob ±1 STD')\n",
    "\n",
    "    # Customize the plot\n",
    "    plt.xlabel('Epochs')\n",
    "    plt.title(title)\n",
    "    plt.grid(True, linestyle='--', alpha=0.7)\n",
    "    plt.legend()\n",
    "    plt.xticks(epochs)  # Show epoch numbers on x-axis\n",
    "\n",
    "    # Fix the y-axis\n",
    "    plt.ylim(0, 1)\n",
    "\n",
    "    # Display the plot\n",
    "    plt.show()\n",
    "\n",
    "\n",
    "\n",
    "plot_real_fake_prob(avg_df[\"disc_real_prob\"], std_df[\"disc_real_prob\"], avg_df[\"disc_fake_prob\"], std_df[\"disc_fake_prob\"], \"real_prob vs fake_prob\")"
   ],
   "outputs": [
    {
     "data": {
      "text/plain": [
       "<Figure size 2000x600 with 1 Axes>"
      ],
      "image/png": "[encoded data removed]"
     },
     "metadata": {},
     "output_type": "display_data"
    }
   ],
   "execution_count": 17
  },
  {
   "metadata": {
    "ExecuteTime": {
     "end_time": "2025-05-13T12:15:40.285726300Z",
     "start_time": "2025-05-13T11:14:07.814375Z"
    }
   },
   "cell_type": "code",
   "source": "",
   "outputs": [],
   "execution_count": null
  }
 ],
 "metadata": {
  "kernelspec": {
   "display_name": "Multi-Agent-General",
   "language": "python",
   "name": "python3"
  },
  "language_info": {
   "codemirror_mode": {
    "name": "ipython",
    "version": 3
   },
   "file_extension": ".py",
   "mimetype": "text/x-python",
   "name": "python",
   "nbconvert_exporter": "python",
   "pygments_lexer": "ipython3",
   "version": "3.11.11"
  }
 },
 "nbformat": 4,
 "nbformat_minor": 2
}
