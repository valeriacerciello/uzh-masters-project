{
 "cells": [
  {
   "cell_type": "code",
   "metadata": {
    "ExecuteTime": {
     "end_time": "2025-04-21T07:51:58.229876Z",
     "start_time": "2025-04-21T07:51:55.119826Z"
    }
   },
   "source": [
    "from enum import EnumType, Enum\n",
    "\n",
    "import torch\n",
    "import torch.nn as nn\n",
    "import torch.optim as optim\n",
    "import numpy as np\n",
    "from pettingzoo.mpe import simple_speaker_listener_v4\n",
    "\n",
    "def make_env():\n",
    "    env = simple_speaker_listener_v4.parallel_env(continuous_actions=False, render_mode=\"rgb_array\", max_cycles=25)\n",
    "    env.reset()\n",
    "    return env\n",
    "\n",
    "def make_env_human():\n",
    "    env = simple_speaker_listener_v4.parallel_env(continuous_actions=False, render_mode=\"human\", max_cycles=25)\n",
    "    env.reset()\n",
    "    return env\n",
    "\n",
    "# Test the environment\n",
    "env = make_env()\n",
    "print(\"Agents:\", env.agents)  # ['speaker_0', 'listener_0']"
   ],
   "outputs": [
    {
     "name": "stdout",
     "output_type": "stream",
     "text": [
      "Agents: ['speaker_0', 'listener_0']\n"
     ]
    }
   ],
   "execution_count": 1
  },
  {
   "metadata": {
    "ExecuteTime": {
     "end_time": "2025-04-21T07:51:58.298208Z",
     "start_time": "2025-04-21T07:51:58.293798Z"
    }
   },
   "cell_type": "code",
   "source": [
    "class DiscType(Enum):\n",
    "    DECENTRALIZED = \"decentralized\"\n",
    "    CENTRALIZED = \"centralized\"\n",
    "    SINGLE = \"single\""
   ],
   "outputs": [],
   "execution_count": 2
  },
  {
   "metadata": {
    "ExecuteTime": {
     "end_time": "2025-04-21T07:51:58.313921Z",
     "start_time": "2025-04-21T07:51:58.307413Z"
    }
   },
   "cell_type": "code",
   "source": [
    "env.state()\n",
    "# env.action_space"
   ],
   "outputs": [
    {
     "data": {
      "text/plain": [
       "array([ 0.15      ,  0.65      ,  0.15      ,  0.        ,  0.        ,\n",
       "       -0.21618372,  0.8076288 ,  1.0865692 , -0.29361886,  0.7403638 ,\n",
       "        0.8244331 ,  0.        ,  0.        ,  0.        ], dtype=float32)"
      ]
     },
     "execution_count": 3,
     "metadata": {},
     "output_type": "execute_result"
    }
   ],
   "execution_count": 3
  },
  {
   "cell_type": "markdown",
   "metadata": {},
   "source": [
    "# Hyperparameters"
   ]
  },
  {
   "cell_type": "code",
   "metadata": {
    "ExecuteTime": {
     "end_time": "2025-04-21T07:51:58.446181Z",
     "start_time": "2025-04-21T07:51:58.384510Z"
    }
   },
   "source": [
    "device = \"cuda:0\" if torch.cuda.is_available() else \"cpu\"\n",
    "\n",
    "DISC_TYPE = DiscType.CENTRALIZED\n",
    "\n",
    "num_expert_episodes = 50\n",
    "# Agent dimensions\n",
    "speaker_obs_dim = 3     #[goal_id]\n",
    "listener_obs_dim = 11 #[self_vel, all_landmark_rel_positions, communication]\n",
    "\n",
    "speaker_act_dim = 3\n",
    "listener_act_dim = 5 # [no_action, move_left, move_right, move_down, move_up]\n",
    "\n",
    "# Two layers network, applied for discriminator, policy and value network\n",
    "all_hid_dim = 128\n",
    "\n",
    "all_agents = env.agents\n",
    "\n",
    "obs_dims = {\n",
    "    \"speaker_0\": speaker_obs_dim,\n",
    "    \"listener_0\": listener_obs_dim\n",
    "}\n",
    "\n",
    "act_dims = {\n",
    "    \"speaker_0\": speaker_act_dim,\n",
    "    \"listener_0\": listener_act_dim\n",
    "}\n",
    "\n",
    "hid_dims = {\n",
    "    \"speaker_0\": all_hid_dim,\n",
    "    \"listener_0\": all_hid_dim\n",
    "}\n",
    "\n",
    "# Evaluated from 5000 expert episodes\n",
    "expert_mean_reward = -39.53\n",
    "\n",
    "training_epochs = 1000\n",
    "\n"
   ],
   "outputs": [],
   "execution_count": 4
  },
  {
   "cell_type": "markdown",
   "metadata": {},
   "source": [
    "# Expert Demonstrations\n",
    "Load the expert policy from paper Inverse Factorized Soft Q-Learning for Cooperative Multi-agent Imitation Learning\n"
   ]
  },
  {
   "cell_type": "code",
   "metadata": {
    "ExecuteTime": {
     "end_time": "2025-04-21T07:51:58.463317Z",
     "start_time": "2025-04-21T07:51:58.456749Z"
    }
   },
   "source": [
    "env = make_env()"
   ],
   "outputs": [],
   "execution_count": 5
  },
  {
   "cell_type": "code",
   "metadata": {
    "ExecuteTime": {
     "end_time": "2025-04-21T07:51:58.738997Z",
     "start_time": "2025-04-21T07:51:58.471131Z"
    }
   },
   "source": [
    "# Load the expert policy\n",
    "expert_policies = torch.jit.load(\"Expert_data/simple_speaker_listener.pt\").to(device)\n",
    "expert_policies.eval()\n",
    "\n",
    "# Try to retrieve h_dim from the policy, fallback to 128\n",
    "try:\n",
    "    h_dim = expert_policies.h_dim\n",
    "    print(f\"Retrieved h_dim: {h_dim}\")\n",
    "except AttributeError:\n",
    "    h_dim = 128  # From error message\n",
    "    print(\"h_dim not accessible, using 128\")\n",
    "\n",
    "def expert_policy(obs, rnn_actor, deterministic=True):\n",
    "    with torch.no_grad():\n",
    "        # Convert observations to tensors\n",
    "        obs_speaker = torch.FloatTensor(obs[\"speaker_0\"]).to(device)\n",
    "        obs_listener = torch.FloatTensor(obs[\"listener_0\"]).to(device)\n",
    "        # Pad speaker's observation (3) to match listener’s (11)\n",
    "        obs_speaker_padded = torch.nn.functional.pad(obs_speaker, (0, 11 - 3))\n",
    "        obs_batch = torch.stack([obs_speaker_padded, obs_listener], dim=0)\n",
    "\n",
    "        # Define masks and available actions\n",
    "        masks = torch.ones((2, 1), dtype=torch.bool, device=device)  # For 2 agents\n",
    "        avails = torch.ones((2, 5), dtype=torch.float32, device=device)  # Assuming 5 actions per agent\n",
    "\n",
    "        # Forward pass through the policy\n",
    "        actions, _, new_rnn_actor = expert_policies._forward(\n",
    "            obs_batch, rnn_actor, masks, avails, deterministic\n",
    "        )\n",
    "        actions_dict = {\n",
    "            \"speaker_0\": actions[0].item(),\n",
    "            \"listener_0\": actions[1].item()\n",
    "        }\n",
    "        return actions_dict, new_rnn_actor\n",
    "\n",
    "def generate_expert_data_decentralized(num_episodes=50):\n",
    "    env = make_env()  # Assuming this is defined elsewhere\n",
    "\n",
    "    # TODO should change the data structure to actually store tuple (s,a)\n",
    "    expert_data = {agent: {\"states\": [], \"actions\": []} for agent in env.agents}\n",
    "\n",
    "    for _ in range(num_episodes):\n",
    "        obs, _ = env.reset()\n",
    "        # Initialize rnn_actor with shape (n_agents, 1, h_dim) on device\n",
    "        rnn_actor = torch.zeros((2, 1, h_dim), device=device)\n",
    "\n",
    "        while env.agents:\n",
    "            actions, rnn_actor = expert_policy(obs, rnn_actor, deterministic=True)\n",
    "            for agent in env.agents:\n",
    "                expert_data[agent][\"states\"].append(obs[agent])\n",
    "                expert_data[agent][\"actions\"].append(actions[agent])\n",
    "                joint_state = env.state()\n",
    "            obs, rewards, terminations, truncations, infos = env.step(actions)\n",
    "\n",
    "    env.close()\n",
    "    return expert_data\n",
    "\n",
    "def convert_decentralized_data_to_centralized(decentralized_data):\n",
    "    \"\"\"\n",
    "    Converts decentralized expert data to centralized format.\n",
    "\n",
    "    Args:\n",
    "        decentralized_data (dict): Decentralized expert data with the structure:\n",
    "            {\n",
    "                agent1: {\"states\": [state1, state2, ...], \"actions\": [action1, action2, ...]},\n",
    "                agent2: {\"states\": [state1, state2, ...], \"actions\": [action1, action2, ...]},\n",
    "                ...\n",
    "            }\n",
    "    Returns:\n",
    "        dict: Centralized expert data with the structure:\n",
    "            {\n",
    "                \"global_states\": [state1, state2, ...],\n",
    "                \"joint_actions\": [actions1, actions2, ...],\n",
    "            }\n",
    "    \"\"\"\n",
    "    centralized_expert_data = {\n",
    "        \"joint_states\": [],  # Global states across all agents\n",
    "        \"joint_actions\": []   # Joint actions per global state\n",
    "    }\n",
    "\n",
    "    # Ensure we use the same length throughout agents\n",
    "    num_samples = len(decentralized_data[all_agents[0]][\"states\"])  # Extract the length from first agent\n",
    "\n",
    "    for i in range(num_samples):\n",
    "        # Combine states of all agents into a global state\n",
    "        global_state = []\n",
    "        for agent in decentralized_data:\n",
    "            global_state.extend(decentralized_data[agent][\"states\"][i])\n",
    "        centralized_expert_data[\"joint_states\"].append(global_state)\n",
    "\n",
    "        # Collect actions from all agents into a joint action\n",
    "        joint_action = [decentralized_data[agent][\"actions\"][i] for agent in decentralized_data]\n",
    "        centralized_expert_data[\"joint_actions\"].append(joint_action)\n",
    "\n",
    "    return centralized_expert_data\n"
   ],
   "outputs": [
    {
     "name": "stdout",
     "output_type": "stream",
     "text": [
      "Retrieved h_dim: 128\n"
     ]
    }
   ],
   "execution_count": 6
  },
  {
   "cell_type": "code",
   "metadata": {
    "ExecuteTime": {
     "end_time": "2025-04-21T07:52:00.384858Z",
     "start_time": "2025-04-21T07:51:58.745036Z"
    }
   },
   "source": [
    "# Generate data\n",
    "decentralized_expert_data = generate_expert_data_decentralized(num_episodes=num_expert_episodes)\n",
    "\n",
    "if DISC_TYPE == DiscType.CENTRALIZED:\n",
    "    centralized_expert_data = convert_decentralized_data_to_centralized(decentralized_expert_data)\n"
   ],
   "outputs": [],
   "execution_count": 7
  },
  {
   "metadata": {
    "ExecuteTime": {
     "end_time": "2025-04-21T07:52:00.397640Z",
     "start_time": "2025-04-21T07:52:00.393376Z"
    }
   },
   "cell_type": "code",
   "source": "decentralized_expert_data[\"speaker_0\"][\"states\"][0]",
   "outputs": [
    {
     "data": {
      "text/plain": [
       "array([0.15, 0.15, 0.65], dtype=float32)"
      ]
     },
     "execution_count": 8,
     "metadata": {},
     "output_type": "execute_result"
    }
   ],
   "execution_count": 8
  },
  {
   "metadata": {
    "ExecuteTime": {
     "end_time": "2025-04-21T07:52:00.417590Z",
     "start_time": "2025-04-21T07:52:00.413108Z"
    }
   },
   "cell_type": "code",
   "source": "decentralized_expert_data[\"listener_0\"][\"states\"][0]",
   "outputs": [
    {
     "data": {
      "text/plain": [
       "array([ 0.        ,  0.        , -1.343874  ,  0.58778435, -0.93518203,\n",
       "       -0.09753238, -0.971888  , -0.06724679,  0.        ,  0.        ,\n",
       "        0.        ], dtype=float32)"
      ]
     },
     "execution_count": 9,
     "metadata": {},
     "output_type": "execute_result"
    }
   ],
   "execution_count": 9
  },
  {
   "metadata": {
    "ExecuteTime": {
     "end_time": "2025-04-21T07:52:00.436281Z",
     "start_time": "2025-04-21T07:52:00.429265Z"
    }
   },
   "cell_type": "code",
   "source": [
    "centralized_expert_data = convert_decentralized_data_to_centralized(decentralized_expert_data)\n",
    "centralized_expert_data[\"joint_states\"][0]"
   ],
   "outputs": [
    {
     "data": {
      "text/plain": [
       "[np.float32(0.15),\n",
       " np.float32(0.15),\n",
       " np.float32(0.65),\n",
       " np.float32(0.0),\n",
       " np.float32(0.0),\n",
       " np.float32(-1.343874),\n",
       " np.float32(0.58778435),\n",
       " np.float32(-0.93518203),\n",
       " np.float32(-0.09753238),\n",
       " np.float32(-0.971888),\n",
       " np.float32(-0.06724679),\n",
       " np.float32(0.0),\n",
       " np.float32(0.0),\n",
       " np.float32(0.0)]"
      ]
     },
     "execution_count": 10,
     "metadata": {},
     "output_type": "execute_result"
    }
   ],
   "execution_count": 10
  },
  {
   "metadata": {},
   "cell_type": "markdown",
   "source": "Shape Checking"
  },
  {
   "cell_type": "code",
   "metadata": {
    "ExecuteTime": {
     "end_time": "2025-04-21T07:52:00.451765Z",
     "start_time": "2025-04-21T07:52:00.446266Z"
    }
   },
   "source": [
    "if DISC_TYPE == DiscType.CENTRALIZED:\n",
    "    expert_states = torch.FloatTensor(centralized_expert_data[\"joint_states\"]).to(device)\n",
    "    expert_actions = torch.LongTensor(centralized_expert_data[\"joint_actions\"]).to(device)\n",
    "elif DISC_TYPE == DiscType.DECENTRALIZED:\n",
    "    agent = \"speaker_0\"\n",
    "    expert_states = torch.FloatTensor(decentralized_expert_data[agent][\"states\"]).to(device)\n",
    "    expert_actions = torch.LongTensor(decentralized_expert_data[agent][\"actions\"]).to(device)\n"
   ],
   "outputs": [],
   "execution_count": 11
  },
  {
   "cell_type": "code",
   "metadata": {
    "ExecuteTime": {
     "end_time": "2025-04-21T07:52:00.493869Z",
     "start_time": "2025-04-21T07:52:00.489966Z"
    }
   },
   "source": [
    "expert_states.shape"
   ],
   "outputs": [
    {
     "data": {
      "text/plain": [
       "torch.Size([1250, 14])"
      ]
     },
     "execution_count": 12,
     "metadata": {},
     "output_type": "execute_result"
    }
   ],
   "execution_count": 12
  },
  {
   "cell_type": "code",
   "metadata": {
    "ExecuteTime": {
     "end_time": "2025-04-21T07:52:00.511542Z",
     "start_time": "2025-04-21T07:52:00.506536Z"
    }
   },
   "source": [
    "expert_actions.shape"
   ],
   "outputs": [
    {
     "data": {
      "text/plain": [
       "torch.Size([1250, 2])"
      ]
     },
     "execution_count": 13,
     "metadata": {},
     "output_type": "execute_result"
    }
   ],
   "execution_count": 13
  },
  {
   "cell_type": "markdown",
   "metadata": {},
   "source": [
    "### Evaluate the Expert Policy"
   ]
  },
  {
   "cell_type": "code",
   "metadata": {
    "ExecuteTime": {
     "end_time": "2025-04-21T07:52:00.527477Z",
     "start_time": "2025-04-21T07:52:00.523455Z"
    }
   },
   "source": [
    "import torch\n",
    "import numpy as np\n",
    "\n",
    "def evaluate_policy_for_expert(policy_func, num_episodes=50, threshold=0.1, h_dim=128, device=device):\n",
    "    env = make_env()\n",
    "    avg_rewards = []\n",
    "\n",
    "    for episode in range(num_episodes):\n",
    "        obs, _ = env.reset()\n",
    "        total_reward = 0\n",
    "        rnn_actor = torch.zeros((2, 1, h_dim), device=device)\n",
    "\n",
    "        while env.agents:\n",
    "            actions, rnn_actor = policy_func(obs, rnn_actor, deterministic=True)\n",
    "            obs, rewards, done, _, _ = env.step(actions)\n",
    "            total_reward += sum(rewards.values())\n",
    "\n",
    "        avg_rewards.append(total_reward)\n",
    "\n",
    "    env.close()\n",
    "    return {\n",
    "        \"avg_reward\": np.mean(avg_rewards),\n",
    "    }\n"
   ],
   "outputs": [],
   "execution_count": 14
  },
  {
   "cell_type": "code",
   "metadata": {
    "ExecuteTime": {
     "end_time": "2025-04-21T07:52:01.356544Z",
     "start_time": "2025-04-21T07:52:00.537840Z"
    }
   },
   "source": [
    "# Evaluate the expert policy\n",
    "expert_eval = evaluate_policy_for_expert(expert_policy, num_episodes=20)\n",
    "print(\"Expert Policy Evaluation:\", expert_eval)\n"
   ],
   "outputs": [
    {
     "name": "stdout",
     "output_type": "stream",
     "text": [
      "Expert Policy Evaluation: {'avg_reward': np.float64(-35.317061296761)}\n"
     ]
    }
   ],
   "execution_count": 15
  },
  {
   "cell_type": "markdown",
   "metadata": {},
   "source": [
    "# Policy Evaluation Function"
   ]
  },
  {
   "cell_type": "code",
   "metadata": {
    "ExecuteTime": {
     "end_time": "2025-04-21T07:52:01.375426Z",
     "start_time": "2025-04-21T07:52:01.369106Z"
    }
   },
   "source": [
    "def learned_policy(policies, obs, device=device):\n",
    "    \"\"\"\n",
    "    Retrieves actions from the learned policy networks for both agents based on observations.\n",
    "\n",
    "    Args:\n",
    "        policies (dict): Dictionary mapping agent names to their Policy network instances.\n",
    "        obs (dict): Dictionary of observations for each agent.\n",
    "        device (str): Device to perform computations on (\"cuda:0\" or \"cpu\").\n",
    "\n",
    "    Returns:\n",
    "        dict: Dictionary mapping agent names to selected actions.\n",
    "    \"\"\"\n",
    "    actions = {}\n",
    "    for agent in obs:\n",
    "        policy = policies[agent]\n",
    "        # Convert observation to tensor and move to device\n",
    "        obs_tensor = torch.FloatTensor(obs[agent]).to(device)\n",
    "        with torch.no_grad():\n",
    "            # Get action probabilities from the policy network\n",
    "            action_probs = policy(obs_tensor)\n",
    "            # Select the action with the highest probability\n",
    "            action = torch.argmax(action_probs).item()\n",
    "        actions[agent] = action\n",
    "    return actions\n",
    "\n",
    "def evaluate_policy_for_training(policies, num_episodes=50, threshold=0.1, device=device):\n",
    "    \"\"\"\n",
    "    Evaluates the performance of learned policies over multiple episodes.\n",
    "\n",
    "    Args:\n",
    "        policies (dict): Dictionary of Policy networks for each agent.\n",
    "        num_episodes (int): Number of episodes to run for evaluation (default: 50).\n",
    "        threshold (float): Distance threshold to determine success (default: 0.1).\n",
    "        device (str): Device to perform computations on (default: \"cuda:0\" or \"cpu\").\n",
    "\n",
    "    Returns:\n",
    "        dict: Dictionary containing evaluation metrics:\n",
    "              - \"success_rate\": Mean success rate across episodes.\n",
    "              - \"avg_reward\": Mean total reward per episode.\n",
    "              - \"avg_steps\": Mean number of steps per episode.\n",
    "    \"\"\"\n",
    "    # Set to evaluation mode to switch off dropout\n",
    "    for policy in policies.values():\n",
    "        policy.eval()\n",
    "\n",
    "    # Initialize the environment\n",
    "    env = make_env()\n",
    "    avg_rewards = []\n",
    "\n",
    "    # Run evaluation over specified number of episodes\n",
    "    for episode in range(num_episodes):\n",
    "        obs, _ = env.reset()\n",
    "        total_reward = 0\n",
    "\n",
    "        # Run the episode\n",
    "        while env.agents:\n",
    "            # Get actions using the learned policy\n",
    "            actions = learned_policy(policies, obs, device)\n",
    "            # Step the environment\n",
    "            obs, rewards, done, _, _ = env.step(actions)\n",
    "            total_reward += sum(rewards.values())  # Sum rewards from both agents\n",
    "\n",
    "        avg_rewards.append(total_reward)\n",
    "\n",
    "    # Clean up environment resources\n",
    "    env.close()\n",
    "\n",
    "    # Compute and return average metrics\n",
    "    return {\n",
    "        \"avg_reward\": np.mean(avg_rewards),\n",
    "    }"
   ],
   "outputs": [],
   "execution_count": 16
  },
  {
   "cell_type": "markdown",
   "metadata": {},
   "source": [
    "# MAGAIL Training"
   ]
  },
  {
   "cell_type": "markdown",
   "metadata": {},
   "source": [
    "## Define MAGAIL Networks"
   ]
  },
  {
   "cell_type": "code",
   "metadata": {
    "ExecuteTime": {
     "end_time": "2025-04-21T07:52:01.396798Z",
     "start_time": "2025-04-21T07:52:01.384826Z"
    }
   },
   "source": [
    "import torch\n",
    "import torch.nn as nn\n",
    "\n",
    "# Policy Networks (one per agent)\n",
    "class Policy(nn.Module):\n",
    "    def __init__(self, obs_dim, act_dim, hidden_dim=64):\n",
    "        super().__init__()\n",
    "        self.net = nn.Sequential(\n",
    "            nn.Linear(obs_dim, hidden_dim),\n",
    "            nn.ReLU(),\n",
    "            nn.Linear(hidden_dim, act_dim),\n",
    "            nn.Softmax(dim=-1)\n",
    "        )\n",
    "    \n",
    "    def forward(self, x):\n",
    "        return self.net(x)\n",
    "\n",
    "# Discriminator Networks (one per agent)\n",
    "# Output the probability of (s,a) Coming from the EXPERT\n",
    "class Discriminator(nn.Module):\n",
    "    def __init__(self, obs_dim, act_dim, hidden_dim=64):\n",
    "        super().__init__()\n",
    "        self.net = nn.Sequential(\n",
    "            nn.Linear(obs_dim + act_dim, hidden_dim),\n",
    "            nn.ReLU(),\n",
    "            nn.Linear(hidden_dim, 1),\n",
    "            nn.Sigmoid())\n",
    "    \n",
    "    def forward(self, state, action):\n",
    "        return self.net(torch.cat([state, action], dim=-1))\n",
    "    \n",
    "# Value Network as baseline\n",
    "class ValueNet(nn.Module):\n",
    "    def __init__(self, obs_dim, hidden_dim=64):\n",
    "        super().__init__()\n",
    "        self.net = nn.Sequential(\n",
    "            nn.Linear(obs_dim, hidden_dim),\n",
    "            nn.ReLU(),\n",
    "            nn.Linear(hidden_dim, 1)\n",
    "        )\n",
    "    \n",
    "    def forward(self, x):\n",
    "        return self.net(x)\n",
    "\n",
    "\n",
    "# Initialize Networks \n",
    "\n",
    "if DISC_TYPE == DiscType.CENTRALIZED:\n",
    "    # For Discriminator the output is a single value\n",
    "    joint_state_dim = sum(obs_dims.values())  # Global state dimension\n",
    "    joint_action_dim = sum(act_dims.values())\n",
    "    discriminator_centralized = Discriminator(obs_dim=joint_state_dim, act_dim=joint_action_dim, hidden_dim=hid_dims[all_agents[0]]).to(device)\n",
    "\n",
    "elif DISC_TYPE == DiscType.DECENTRALIZED:\n",
    "    discriminators = {\n",
    "        a: Discriminator(obs_dim=obs_dims[a], act_dim=act_dims[a], hidden_dim=hid_dims[a]).to(device)\n",
    "        for a in all_agents\n",
    "    }\n",
    "\n",
    "# Initialize value networks to reduce variance (actor critic)\n",
    "\n",
    "policies = {\n",
    "    a: Policy(obs_dim=obs_dims[a], act_dim=act_dims[a], hidden_dim=hid_dims[a]).to(device)\n",
    "    for a in all_agents\n",
    "}\n",
    "\n",
    "# Replace the original value_nets initialization with:\n",
    "if DISC_TYPE == DiscType.CENTRALIZED:\n",
    "    joint_state_dim = sum(obs_dims.values())  # Global state dimension\n",
    "    value_nets = {}\n",
    "    for agent in all_agents:\n",
    "        value_nets[agent] = ValueNet(joint_state_dim, hid_dims[agent]).to(device)\n",
    "elif DISC_TYPE == DiscType.DECENTRALIZED:\n",
    "    value_nets = {\n",
    "        agent: ValueNet(obs_dims[agent], hid_dims[agent]).to(device)\n",
    "        for agent in all_agents\n",
    "    }"
   ],
   "outputs": [],
   "execution_count": 17
  },
  {
   "metadata": {
    "ExecuteTime": {
     "end_time": "2025-04-21T07:52:01.410554Z",
     "start_time": "2025-04-21T07:52:01.406876Z"
    }
   },
   "cell_type": "code",
   "source": "sum(act_dims.values())",
   "outputs": [
    {
     "data": {
      "text/plain": [
       "8"
      ]
     },
     "execution_count": 18,
     "metadata": {},
     "output_type": "execute_result"
    }
   ],
   "execution_count": 18
  },
  {
   "cell_type": "markdown",
   "metadata": {},
   "source": [
    "## Training MAGAIL Loop"
   ]
  },
  {
   "metadata": {
    "ExecuteTime": {
     "end_time": "2025-04-21T07:52:01.445163Z",
     "start_time": "2025-04-21T07:52:01.426193Z"
    }
   },
   "cell_type": "code",
   "source": [
    "all_expert_rewards = []  # Store all expert rewards\n",
    "all_episode_rewards = []  # Store all episode rewards\n",
    "\n",
    "def train_magail(expert_data, num_epochs=1000, batch_size=32):\n",
    "\n",
    "    optimizers = {\n",
    "        agent: {\n",
    "            \"policy\": torch.optim.Adam(policies[agent].parameters(), lr=1e-3),\n",
    "            \"value\": torch.optim.Adam(value_nets[agent].parameters(), lr=1e-3)\n",
    "        } for agent in all_agents\n",
    "    }\n",
    "    if DISC_TYPE == DiscType.CENTRALIZED:\n",
    "        optimizers[\"disc\"] = torch.optim.Adam(discriminator_centralized.parameters(), lr=1e-3)\n",
    "    elif DISC_TYPE == DiscType.DECENTRALIZED:\n",
    "        for agent in all_agents:\n",
    "            optimizers[agent][\"disc\"] = torch.optim.Adam(discriminators[agent].parameters(), lr=1e-3)\n",
    "\n",
    "\n",
    "\n",
    "    for epoch in range(num_epochs):\n",
    "\n",
    "        decentralized_policy_data = collect_policy_trajectories(policies, batch_size=batch_size)\n",
    "\n",
    "        # --- Update discriminators ---\n",
    "        if DISC_TYPE == DiscType.CENTRALIZED:\n",
    "            centralized_policy_data = convert_decentralized_data_to_centralized(decentralized_policy_data)\n",
    "            update_discriminators_centralized(centralized_expert_data, centralized_policy_data, optimizers, batch_size)\n",
    "        elif DISC_TYPE == DiscType.DECENTRALIZED:\n",
    "            for agent in all_agents:\n",
    "                update_discriminators_decentralized(agent, decentralized_expert_data, decentralized_policy_data, optimizers, batch_size)\n",
    "\n",
    "        # --- Update policies and value (Actor Critic) ---\n",
    "        for agent in all_agents:\n",
    "            if DISC_TYPE == DiscType.CENTRALIZED:\n",
    "                update_policies_centralized(epoch, agent, decentralized_policy_data, centralized_policy_data, optimizers, batch_size)\n",
    "            elif DISC_TYPE == DiscType.DECENTRALIZED:\n",
    "                update_policies_decentralized(epoch, agent, decentralized_policy_data, optimizers, batch_size)\n",
    "\n",
    "        # Diagnostic\n",
    "        print_diagnostics(epoch)\n",
    "\n",
    "    env.close()\n",
    "\n",
    "def collect_policy_trajectories(policies, batch_size=32):\n",
    "    env = make_env()\n",
    "    policy_data = {agent: {\"states\": [], \"actions\": []} for agent in env.agents}\n",
    "    obs, _ = env.reset()\n",
    "    agent = env.agents[0]\n",
    "    policy_data_length = len(policy_data[agent][\"states\"])\n",
    "    while policy_data_length < batch_size:\n",
    "        while env.agents:\n",
    "            actions = {}\n",
    "            for agent in env.agents:\n",
    "                obs_tensor = torch.FloatTensor(obs[agent]).to(device)\n",
    "                action_probs = policies[agent](obs_tensor)\n",
    "                # Simpling by probability - ensure exploration\n",
    "                # Similar with Epsilon-Greedy, but used in policy-based algorithms. Epsilon-Greedy is in valued based\n",
    "                action = torch.multinomial(action_probs, 1).item()\n",
    "                actions[agent] = action\n",
    "                policy_data[agent][\"states\"].append(obs[agent])\n",
    "                policy_data[agent][\"actions\"].append(action)\n",
    "\n",
    "            obs, rewards, terminations, truncations, infos= env.step(actions)\n",
    "        env.reset()\n",
    "        policy_data_length = len(policy_data[agent][\"states\"])\n",
    "\n",
    "    return policy_data\n",
    "\n",
    "def sample_batch_state_action_pairs_decentralized(data, agent, batch_size=32):\n",
    "    '''\n",
    "    data: dict: agent -> {\"states\": [], \"actions\": []}\n",
    "    returns: (batch_states, batch_actions) converted to tensor\n",
    "    '''\n",
    "    # Sample Expert data\n",
    "\n",
    "    states = torch.FloatTensor(data[agent][\"states\"]).to(device)\n",
    "    actions = torch.LongTensor(data[agent][\"actions\"]).to(device)\n",
    "\n",
    "    # Make sure the (s,a) order does not change\n",
    "    sample_indices = np.random.choice(len(states), batch_size, replace=False)\n",
    "    batch_states = states[sample_indices]\n",
    "    batch_actions = actions[sample_indices]\n",
    "\n",
    "    return batch_states, batch_actions\n",
    "\n",
    "def sample_batch_state_action_pairs_centralized(data, batch_size=32):\n",
    "    '''\n",
    "    data: dict: agent -> {\"states\": [], \"actions\": []}\n",
    "    returns: (batch_states, batch_actions) converted to tensor\n",
    "    '''\n",
    "    # Sample Expert data\n",
    "    states = torch.FloatTensor(data[\"joint_states\"]).to(device)\n",
    "    actions = torch.LongTensor(data[\"joint_actions\"]).to(device)\n",
    "\n",
    "    # Make sure the (s,a) order does not change\n",
    "    sample_indices = np.random.choice(len(states), batch_size, replace=False)\n",
    "    batch_states = states[sample_indices]\n",
    "    batch_actions = actions[sample_indices]\n",
    "\n",
    "    return batch_states, batch_actions\n",
    "\n",
    "def update_discriminators_decentralized(agent, expert_data, policy_data, optimizers, batch_size):\n",
    "    # Sample batch from dataset\n",
    "    expert_states, expert_actions = sample_batch_state_action_pairs_decentralized(expert_data, agent, batch_size)\n",
    "    policy_states, policy_actions = sample_batch_state_action_pairs_decentralized(policy_data, agent, batch_size)\n",
    "\n",
    "    # One-hot encode actions (different for speaker/listener)\n",
    "    num_classes = act_dims[agent]\n",
    "    expert_actions_onehot = torch.nn.functional.one_hot(expert_actions, num_classes=num_classes).float().to(device)\n",
    "    policy_actions_onehot = torch.nn.functional.one_hot(policy_actions, num_classes=num_classes).float().to(device)\n",
    "\n",
    "    # Discriminator loss\n",
    "    # max[log(D(expert)) + log(1 - D(policy))] => min[-log(D(expert)) - log(1 - D(policy))],\n",
    "    real_loss = -torch.log(discriminators[agent](expert_states, expert_actions_onehot)).mean()\n",
    "    fake_loss = -torch.log(1 - discriminators[agent](policy_states, policy_actions_onehot)).mean()\n",
    "    disc_loss = real_loss + fake_loss\n",
    "\n",
    "    optimizers[agent][\"disc\"].zero_grad()\n",
    "    disc_loss.backward()\n",
    "    optimizers[agent][\"disc\"].step()\n",
    "\n",
    "def update_discriminators_centralized(centralized_expert_data, centralized_policy_data, optimizers, batch_size):\n",
    "    # Centralized update\n",
    "    expert_joint_states, expert_joint_actions = sample_batch_state_action_pairs_centralized(centralized_expert_data, batch_size)\n",
    "    policy_joint_states, policy_joint_actions = sample_batch_state_action_pairs_centralized(centralized_policy_data, batch_size)\n",
    "\n",
    "    # Convert joint actions to one-hot\n",
    "    def encode_joint_actions(joint_actions):\n",
    "        encoded = []\n",
    "        for ja in joint_actions:\n",
    "            speaker_act = torch.nn.functional.one_hot(torch.tensor(ja[0]), speaker_act_dim)\n",
    "            listener_act = torch.nn.functional.one_hot(torch.tensor(ja[1]), listener_act_dim)\n",
    "            encoded.append(torch.cat([speaker_act, listener_act]))\n",
    "        return torch.stack(encoded).to(device)\n",
    "\n",
    "    expert_joint_actions_onehot = encode_joint_actions(expert_joint_actions)\n",
    "    policy_joint_actions_onehot = encode_joint_actions(policy_joint_actions)\n",
    "\n",
    "    # Discriminator loss\n",
    "    # max[log(D(expert)) + log(1 - D(policy))] => min[-log(D(expert)) - log(1 - D(policy))],\n",
    "    real_loss = -torch.log(discriminator_centralized(expert_joint_states, expert_joint_actions_onehot)).mean()\n",
    "    fake_loss = -torch.log(1 - discriminator_centralized(policy_joint_states, policy_joint_actions_onehot)).mean()\n",
    "    disc_loss = real_loss + fake_loss\n",
    "\n",
    "    optimizers[\"disc\"].zero_grad()\n",
    "    disc_loss.backward()\n",
    "    optimizers[\"disc\"].step()\n",
    "\n",
    "def update_policies_centralized(epoch, agent, decentralized_policy_data, centralized_policy_data, optimizers, batch_size):\n",
    "\n",
    "    # Centralized data\n",
    "    policy_joint_states, policy_joint_actions = sample_batch_state_action_pairs_centralized(centralized_policy_data, batch_size)\n",
    "\n",
    "    # Convert joint actions to one-hot\n",
    "    def encode_joint_actions(joint_actions):\n",
    "        encoded = []\n",
    "        for ja in joint_actions:\n",
    "            speaker_act = torch.nn.functional.one_hot(torch.tensor(ja[0]), speaker_act_dim)\n",
    "            listener_act = torch.nn.functional.one_hot(torch.tensor(ja[1]), listener_act_dim)\n",
    "            encoded.append(torch.cat([speaker_act, listener_act]))\n",
    "        return torch.stack(encoded).to(device)\n",
    "    policy_joint_actions_onehot = encode_joint_actions(policy_joint_actions)\n",
    "\n",
    "    # decentralized data\n",
    "    policy_states, policy_actions = sample_batch_state_action_pairs_decentralized(decentralized_policy_data, agent, batch_size)\n",
    "\n",
    "    # Adversarial reward: log(D(s,a))\n",
    "    # D(s,a) How much the descrimiator think it is from the expert, and we wanna maximize this reward\n",
    "    with torch.no_grad():\n",
    "\n",
    "        # MAGAIL paper section 4.1\n",
    "        # Implicitly, Di - discriminators plays the role of a reward function for the generator,\n",
    "        # which in turn attempts to train the agent to maximize its reward thus fooling the discriminator\n",
    "        generator_rewards = torch.log(discriminator_centralized(policy_joint_states, policy_joint_actions_onehot))\n",
    "\n",
    "        # Compute value baseline\n",
    "        values = value_nets[agent](policy_joint_states)\n",
    "        # Compute advantages\n",
    "        # TD error: (actual reward - estimate(baseline))\n",
    "        # Then use this advantage as reward/reinforce signal\n",
    "        advantages = generator_rewards - values.squeeze()\n",
    "\n",
    "    # Update value network (MSE Loss)\n",
    "    value_loss = (values.squeeze() - generator_rewards).pow(2).mean()\n",
    "    # Should always clear the gradient before update\n",
    "    value_loss.requires_grad = True\n",
    "    optimizers[agent][\"value\"].zero_grad()\n",
    "    value_loss.backward()\n",
    "    optimizers[agent][\"value\"].step()\n",
    "\n",
    "    # Policy gradient\n",
    "    action_probs = policies[agent](policy_states)\n",
    "\n",
    "    # Expirement with entropy\n",
    "    # entropy = -torch.sum(action_probs * torch.log(action_probs + 1e-10), dim=-1).mean()  # Avoid log(0)\n",
    "\n",
    "    log_probs = torch.log(action_probs.gather(1, policy_actions.unsqueeze(1)))\n",
    "\n",
    "    # If we didn't call advantage.detach(), the gradients would flow through the advantage tensor, and the value network's parameters would be updated using the policy loss, which is not what we want.\n",
    "    # Policy gradient reinforced by advantage\n",
    "    # TODO we are not using any nature policy gradient TRPO/PPO, but in paper it used\n",
    "    policy_loss = -(log_probs * advantages.detach()).mean()\n",
    "\n",
    "    optimizers[agent][\"policy\"].zero_grad()\n",
    "    policy_loss.backward()\n",
    "    optimizers[agent][\"policy\"].step()\n",
    "\n",
    "    if epoch % 20 == 0:\n",
    "        print(\"------------------------------------------------------\")\n",
    "        print(f\"Epoch {epoch}: generator_rewards={generator_rewards.detach().cpu().numpy().mean():.2f}, value_loss={value_loss.detach().cpu().numpy().mean():.2f}, policy_loss={policy_loss.detach().cpu().numpy().mean():.2f}\")\n",
    "\n",
    "\n",
    "def update_policies_decentralized(epoch, agent, policy_data, optimizers, batch_size):\n",
    "    policy_states, policy_actions = sample_batch_state_action_pairs_decentralized(policy_data, agent, batch_size)\n",
    "    # One-hot encode actions (different for speaker/listener)\n",
    "    num_classes = act_dims[agent]\n",
    "    policy_actions_onehot = torch.nn.functional.one_hot(policy_actions, num_classes=num_classes).float().to(device)\n",
    "\n",
    "    # Adversarial reward: log(D(s,a))\n",
    "    # D(s,a) How much the descrimiator think it is from the expert, and we wanna maximize this reward\n",
    "    with torch.no_grad():\n",
    "\n",
    "        # MAGAIL paper section 4.1\n",
    "        # Implicitly, Di - discriminators plays the role of a reward function for the generator,\n",
    "        # which in turn attempts to train the agent to maximize its reward thus fooling the discriminator\n",
    "        generator_rewards = torch.log(discriminators[agent](policy_states, policy_actions_onehot))\n",
    "\n",
    "        # Compute value baseline\n",
    "        values = value_nets[agent](policy_states)\n",
    "        # Compute advantages\n",
    "        # TD error: (actual reward - estimate(baseline))\n",
    "        # Then use this advantage as reward/reinforce signal\n",
    "        advantages = generator_rewards - values.squeeze()\n",
    "\n",
    "    # Update value network (MSE Loss)\n",
    "    value_loss = (values.squeeze() - generator_rewards).pow(2).mean()\n",
    "    # Should always clear the gradient before update\n",
    "    value_loss.requires_grad = True\n",
    "    optimizers[agent][\"value\"].zero_grad()\n",
    "    value_loss.backward()\n",
    "    optimizers[agent][\"value\"].step()\n",
    "\n",
    "    # Policy gradient\n",
    "    action_probs = policies[agent](policy_states)\n",
    "\n",
    "    # Expirement with entropy\n",
    "    # entropy = -torch.sum(action_probs * torch.log(action_probs + 1e-10), dim=-1).mean()  # Avoid log(0)\n",
    "\n",
    "    log_probs = torch.log(action_probs.gather(1, policy_actions.unsqueeze(1)))\n",
    "\n",
    "    # If we didn't call advantage.detach(), the gradients would flow through the advantage tensor, and the value network's parameters would be updated using the policy loss, which is not what we want.\n",
    "    # Policy gradient reinforced by advantage\n",
    "    # TODO we are not using any nature policy gradient TRPO/PPO, but in paper it used\n",
    "    policy_loss = -(log_probs * advantages.detach()).mean()\n",
    "\n",
    "    optimizers[agent][\"policy\"].zero_grad()\n",
    "    policy_loss.backward()\n",
    "    optimizers[agent][\"policy\"].step()\n",
    "\n",
    "    if epoch % 20 == 0:\n",
    "        print(\"------------------------------------------------------\")\n",
    "        print(f\"Epoch {epoch}: generator_rewards={generator_rewards.detach().cpu().numpy().mean():.2f}, value_loss={value_loss.detach().cpu().numpy().mean():.2f}, policy_loss={policy_loss.detach().cpu().numpy().mean():.2f}\")\n",
    "\n",
    "def print_diagnostics(epoch):\n",
    "    if epoch % 50 == 0:\n",
    "        print(\"------------------------------------------------------\")\n",
    "        training_eval_stats = evaluate_policy_for_training(policies, num_episodes=20)\n",
    "        print(f\"Epoch {epoch}: Avg Reward={training_eval_stats['avg_reward']:.2f}\")\n",
    "        all_episode_rewards.append(training_eval_stats[\"avg_reward\"])\n",
    "\n",
    "        # expert_eval = evaluate_policy_for_expert(expert_policy, num_episodes=20)\n",
    "        all_expert_rewards.append(expert_mean_reward)\n",
    "        print(f\"Expert Policy: Avg Reward={expert_mean_reward}\")\n",
    "\n",
    "\n",
    "# train_magail(decentralized_expert_data, num_epochs=training_epochs, batch_size=64)\n"
   ],
   "outputs": [],
   "execution_count": 19
  },
  {
   "cell_type": "markdown",
   "metadata": {},
   "source": [
    "## Training"
   ]
  },
  {
   "cell_type": "code",
   "metadata": {
    "ExecuteTime": {
     "end_time": "2025-04-21T07:59:13.724699Z",
     "start_time": "2025-04-21T07:52:01.455435Z"
    }
   },
   "source": "train_magail(decentralized_expert_data, num_epochs=training_epochs, batch_size=64)",
   "outputs": [
    {
     "name": "stderr",
     "output_type": "stream",
     "text": [
      "C:\\Users\\wangy\\AppData\\Local\\Temp\\ipykernel_15988\\1657014027.py:131: UserWarning: To copy construct from a tensor, it is recommended to use sourceTensor.clone().detach() or sourceTensor.clone().detach().requires_grad_(True), rather than torch.tensor(sourceTensor).\n",
      "  speaker_act = torch.nn.functional.one_hot(torch.tensor(ja[0]), speaker_act_dim)\n",
      "C:\\Users\\wangy\\AppData\\Local\\Temp\\ipykernel_15988\\1657014027.py:132: UserWarning: To copy construct from a tensor, it is recommended to use sourceTensor.clone().detach() or sourceTensor.clone().detach().requires_grad_(True), rather than torch.tensor(sourceTensor).\n",
      "  listener_act = torch.nn.functional.one_hot(torch.tensor(ja[1]), listener_act_dim)\n",
      "C:\\Users\\wangy\\AppData\\Local\\Temp\\ipykernel_15988\\1657014027.py:158: UserWarning: To copy construct from a tensor, it is recommended to use sourceTensor.clone().detach() or sourceTensor.clone().detach().requires_grad_(True), rather than torch.tensor(sourceTensor).\n",
      "  speaker_act = torch.nn.functional.one_hot(torch.tensor(ja[0]), speaker_act_dim)\n",
      "C:\\Users\\wangy\\AppData\\Local\\Temp\\ipykernel_15988\\1657014027.py:159: UserWarning: To copy construct from a tensor, it is recommended to use sourceTensor.clone().detach() or sourceTensor.clone().detach().requires_grad_(True), rather than torch.tensor(sourceTensor).\n",
      "  listener_act = torch.nn.functional.one_hot(torch.tensor(ja[1]), listener_act_dim)\n",
      "C:\\Users\\wangy\\AppData\\Local\\Temp\\ipykernel_15988\\1657014027.py:76: UserWarning: Creating a tensor from a list of numpy.ndarrays is extremely slow. Please consider converting the list to a single numpy.ndarray with numpy.array() before converting to a tensor. (Triggered internally at C:\\actions-runner\\_work\\pytorch\\pytorch\\pytorch\\torch\\csrc\\utils\\tensor_new.cpp:257.)\n",
      "  states = torch.FloatTensor(data[agent][\"states\"]).to(device)\n"
     ]
    },
    {
     "name": "stdout",
     "output_type": "stream",
     "text": [
      "------------------------------------------------------\n",
      "Epoch 0: generator_rewards=-0.64, value_loss=0.32, policy_loss=-0.62\n",
      "------------------------------------------------------\n",
      "Epoch 0: generator_rewards=-0.64, value_loss=0.47, policy_loss=-1.07\n",
      "------------------------------------------------------\n",
      "Epoch 0: Avg Reward=-121.81\n",
      "Expert Policy: Avg Reward=-39.53\n",
      "------------------------------------------------------\n",
      "Epoch 20: generator_rewards=-0.77, value_loss=0.53, policy_loss=-0.81\n",
      "------------------------------------------------------\n",
      "Epoch 20: generator_rewards=-0.78, value_loss=0.62, policy_loss=-1.24\n",
      "------------------------------------------------------\n",
      "Epoch 40: generator_rewards=-0.67, value_loss=0.42, policy_loss=-0.70\n",
      "------------------------------------------------------\n",
      "Epoch 40: generator_rewards=-0.68, value_loss=0.54, policy_loss=-1.12\n",
      "------------------------------------------------------\n",
      "Epoch 50: Avg Reward=-132.54\n",
      "Expert Policy: Avg Reward=-39.53\n",
      "------------------------------------------------------\n",
      "Epoch 60: generator_rewards=-0.85, value_loss=0.74, policy_loss=-0.84\n",
      "------------------------------------------------------\n",
      "Epoch 60: generator_rewards=-0.87, value_loss=1.06, policy_loss=-1.51\n",
      "------------------------------------------------------\n",
      "Epoch 80: generator_rewards=-1.12, value_loss=1.26, policy_loss=-1.15\n",
      "------------------------------------------------------\n",
      "Epoch 80: generator_rewards=-1.14, value_loss=1.39, policy_loss=-1.79\n",
      "------------------------------------------------------\n",
      "Epoch 100: generator_rewards=-0.67, value_loss=0.54, policy_loss=-0.68\n",
      "------------------------------------------------------\n",
      "Epoch 100: generator_rewards=-0.71, value_loss=0.73, policy_loss=-1.19\n",
      "------------------------------------------------------\n",
      "Epoch 100: Avg Reward=-99.02\n",
      "Expert Policy: Avg Reward=-39.53\n",
      "------------------------------------------------------\n",
      "Epoch 120: generator_rewards=-0.75, value_loss=0.55, policy_loss=-0.67\n",
      "------------------------------------------------------\n",
      "Epoch 120: generator_rewards=-0.76, value_loss=0.61, policy_loss=-1.05\n",
      "------------------------------------------------------\n",
      "Epoch 140: generator_rewards=-1.10, value_loss=1.50, policy_loss=-1.06\n",
      "------------------------------------------------------\n",
      "Epoch 140: generator_rewards=-1.07, value_loss=1.45, policy_loss=-1.67\n",
      "------------------------------------------------------\n",
      "Epoch 150: Avg Reward=-84.13\n",
      "Expert Policy: Avg Reward=-39.53\n",
      "------------------------------------------------------\n",
      "Epoch 160: generator_rewards=-1.62, value_loss=2.85, policy_loss=-1.65\n",
      "------------------------------------------------------\n",
      "Epoch 160: generator_rewards=-1.65, value_loss=3.41, policy_loss=-2.76\n",
      "------------------------------------------------------\n",
      "Epoch 180: generator_rewards=-1.19, value_loss=1.62, policy_loss=-1.14\n",
      "------------------------------------------------------\n",
      "Epoch 180: generator_rewards=-1.20, value_loss=1.76, policy_loss=-1.81\n",
      "------------------------------------------------------\n",
      "Epoch 200: generator_rewards=-1.30, value_loss=2.18, policy_loss=-1.28\n",
      "------------------------------------------------------\n",
      "Epoch 200: generator_rewards=-1.32, value_loss=2.44, policy_loss=-2.02\n",
      "------------------------------------------------------\n",
      "Epoch 200: Avg Reward=-73.50\n",
      "Expert Policy: Avg Reward=-39.53\n",
      "------------------------------------------------------\n",
      "Epoch 220: generator_rewards=-1.80, value_loss=4.12, policy_loss=-1.79\n",
      "------------------------------------------------------\n",
      "Epoch 220: generator_rewards=-1.75, value_loss=3.99, policy_loss=-2.58\n",
      "------------------------------------------------------\n",
      "Epoch 240: generator_rewards=-1.67, value_loss=3.51, policy_loss=-1.71\n",
      "------------------------------------------------------\n",
      "Epoch 240: generator_rewards=-1.75, value_loss=4.20, policy_loss=-3.02\n",
      "------------------------------------------------------\n",
      "Epoch 250: Avg Reward=-68.20\n",
      "Expert Policy: Avg Reward=-39.53\n",
      "------------------------------------------------------\n",
      "Epoch 260: generator_rewards=-1.83, value_loss=4.98, policy_loss=-1.75\n",
      "------------------------------------------------------\n",
      "Epoch 260: generator_rewards=-1.83, value_loss=5.41, policy_loss=-2.85\n",
      "------------------------------------------------------\n",
      "Epoch 280: generator_rewards=-1.43, value_loss=3.17, policy_loss=-1.38\n",
      "------------------------------------------------------\n",
      "Epoch 280: generator_rewards=-1.47, value_loss=3.40, policy_loss=-2.00\n",
      "------------------------------------------------------\n",
      "Epoch 300: generator_rewards=-1.76, value_loss=4.45, policy_loss=-1.71\n",
      "------------------------------------------------------\n",
      "Epoch 300: generator_rewards=-1.80, value_loss=4.75, policy_loss=-2.25\n",
      "------------------------------------------------------\n",
      "Epoch 300: Avg Reward=-48.98\n",
      "Expert Policy: Avg Reward=-39.53\n",
      "------------------------------------------------------\n",
      "Epoch 320: generator_rewards=-2.06, value_loss=5.60, policy_loss=-2.11\n",
      "------------------------------------------------------\n",
      "Epoch 320: generator_rewards=-2.02, value_loss=5.78, policy_loss=-2.55\n",
      "------------------------------------------------------\n",
      "Epoch 340: generator_rewards=-1.83, value_loss=4.91, policy_loss=-1.73\n",
      "------------------------------------------------------\n",
      "Epoch 340: generator_rewards=-1.90, value_loss=5.73, policy_loss=-2.47\n",
      "------------------------------------------------------\n",
      "Epoch 350: Avg Reward=-81.93\n",
      "Expert Policy: Avg Reward=-39.53\n",
      "------------------------------------------------------\n",
      "Epoch 360: generator_rewards=-3.12, value_loss=12.54, policy_loss=-3.01\n",
      "------------------------------------------------------\n",
      "Epoch 360: generator_rewards=-3.19, value_loss=13.71, policy_loss=-4.00\n",
      "------------------------------------------------------\n",
      "Epoch 380: generator_rewards=-2.84, value_loss=12.53, policy_loss=-2.35\n",
      "------------------------------------------------------\n",
      "Epoch 380: generator_rewards=-2.77, value_loss=11.47, policy_loss=-3.64\n",
      "------------------------------------------------------\n",
      "Epoch 400: generator_rewards=-3.13, value_loss=13.22, policy_loss=-2.68\n",
      "------------------------------------------------------\n",
      "Epoch 400: generator_rewards=-2.90, value_loss=11.56, policy_loss=-3.59\n",
      "------------------------------------------------------\n",
      "Epoch 400: Avg Reward=-68.65\n",
      "Expert Policy: Avg Reward=-39.53\n",
      "------------------------------------------------------\n",
      "Epoch 420: generator_rewards=-2.81, value_loss=13.99, policy_loss=-2.24\n",
      "------------------------------------------------------\n",
      "Epoch 420: generator_rewards=-2.67, value_loss=13.61, policy_loss=-3.51\n",
      "------------------------------------------------------\n",
      "Epoch 440: generator_rewards=-2.95, value_loss=11.84, policy_loss=-2.59\n",
      "------------------------------------------------------\n",
      "Epoch 440: generator_rewards=-3.20, value_loss=15.35, policy_loss=-3.78\n",
      "------------------------------------------------------\n",
      "Epoch 450: Avg Reward=-61.62\n",
      "Expert Policy: Avg Reward=-39.53\n",
      "------------------------------------------------------\n",
      "Epoch 460: generator_rewards=-2.55, value_loss=8.69, policy_loss=-2.30\n",
      "------------------------------------------------------\n",
      "Epoch 460: generator_rewards=-2.51, value_loss=8.31, policy_loss=-2.07\n",
      "------------------------------------------------------\n",
      "Epoch 480: generator_rewards=-2.42, value_loss=7.90, policy_loss=-2.33\n",
      "------------------------------------------------------\n",
      "Epoch 480: generator_rewards=-2.50, value_loss=9.70, policy_loss=-2.24\n",
      "------------------------------------------------------\n",
      "Epoch 500: generator_rewards=-3.98, value_loss=19.21, policy_loss=-3.30\n",
      "------------------------------------------------------\n",
      "Epoch 500: generator_rewards=-4.13, value_loss=22.02, policy_loss=-4.28\n",
      "------------------------------------------------------\n",
      "Epoch 500: Avg Reward=-77.70\n",
      "Expert Policy: Avg Reward=-39.53\n",
      "------------------------------------------------------\n",
      "Epoch 520: generator_rewards=-3.63, value_loss=17.12, policy_loss=-2.77\n",
      "------------------------------------------------------\n",
      "Epoch 520: generator_rewards=-3.59, value_loss=16.93, policy_loss=-3.74\n",
      "------------------------------------------------------\n",
      "Epoch 540: generator_rewards=-2.37, value_loss=6.63, policy_loss=-1.63\n",
      "------------------------------------------------------\n",
      "Epoch 540: generator_rewards=-2.47, value_loss=7.92, policy_loss=-2.71\n",
      "------------------------------------------------------\n",
      "Epoch 550: Avg Reward=-69.05\n",
      "Expert Policy: Avg Reward=-39.53\n",
      "------------------------------------------------------\n",
      "Epoch 560: generator_rewards=-3.58, value_loss=18.20, policy_loss=-3.32\n",
      "------------------------------------------------------\n",
      "Epoch 560: generator_rewards=-3.45, value_loss=17.73, policy_loss=-5.15\n",
      "------------------------------------------------------\n",
      "Epoch 580: generator_rewards=-3.13, value_loss=13.63, policy_loss=-2.93\n",
      "------------------------------------------------------\n",
      "Epoch 580: generator_rewards=-3.29, value_loss=15.34, policy_loss=-4.28\n",
      "------------------------------------------------------\n",
      "Epoch 600: generator_rewards=-4.03, value_loss=20.96, policy_loss=-3.48\n",
      "------------------------------------------------------\n",
      "Epoch 600: generator_rewards=-4.45, value_loss=27.08, policy_loss=-5.09\n",
      "------------------------------------------------------\n",
      "Epoch 600: Avg Reward=-142.00\n",
      "Expert Policy: Avg Reward=-39.53\n",
      "------------------------------------------------------\n",
      "Epoch 620: generator_rewards=-4.53, value_loss=28.16, policy_loss=-3.60\n",
      "------------------------------------------------------\n",
      "Epoch 620: generator_rewards=-4.61, value_loss=29.88, policy_loss=-5.14\n",
      "------------------------------------------------------\n",
      "Epoch 640: generator_rewards=-4.18, value_loss=25.27, policy_loss=-4.26\n",
      "------------------------------------------------------\n",
      "Epoch 640: generator_rewards=-4.29, value_loss=27.18, policy_loss=-4.39\n",
      "------------------------------------------------------\n",
      "Epoch 650: Avg Reward=-300.56\n",
      "Expert Policy: Avg Reward=-39.53\n",
      "------------------------------------------------------\n",
      "Epoch 660: generator_rewards=-3.60, value_loss=16.62, policy_loss=-2.87\n",
      "------------------------------------------------------\n",
      "Epoch 660: generator_rewards=-3.74, value_loss=18.46, policy_loss=-4.37\n",
      "------------------------------------------------------\n",
      "Epoch 680: generator_rewards=-4.40, value_loss=25.94, policy_loss=-3.46\n",
      "------------------------------------------------------\n",
      "Epoch 680: generator_rewards=-4.46, value_loss=26.08, policy_loss=-3.89\n",
      "------------------------------------------------------\n",
      "Epoch 700: generator_rewards=-4.69, value_loss=30.01, policy_loss=-3.68\n",
      "------------------------------------------------------\n",
      "Epoch 700: generator_rewards=-4.56, value_loss=30.08, policy_loss=-6.24\n",
      "------------------------------------------------------\n",
      "Epoch 700: Avg Reward=-238.13\n",
      "Expert Policy: Avg Reward=-39.53\n",
      "------------------------------------------------------\n",
      "Epoch 720: generator_rewards=-4.43, value_loss=28.66, policy_loss=-3.10\n",
      "------------------------------------------------------\n",
      "Epoch 720: generator_rewards=-4.24, value_loss=27.55, policy_loss=-5.54\n",
      "------------------------------------------------------\n",
      "Epoch 740: generator_rewards=-5.18, value_loss=33.81, policy_loss=-2.82\n",
      "------------------------------------------------------\n",
      "Epoch 740: generator_rewards=-5.37, value_loss=35.27, policy_loss=-7.31\n",
      "------------------------------------------------------\n",
      "Epoch 750: Avg Reward=-266.64\n",
      "Expert Policy: Avg Reward=-39.53\n",
      "------------------------------------------------------\n",
      "Epoch 760: generator_rewards=-6.59, value_loss=51.61, policy_loss=-5.44\n",
      "------------------------------------------------------\n",
      "Epoch 760: generator_rewards=-6.35, value_loss=48.70, policy_loss=-9.67\n",
      "------------------------------------------------------\n",
      "Epoch 780: generator_rewards=-4.60, value_loss=27.75, policy_loss=-3.18\n",
      "------------------------------------------------------\n",
      "Epoch 780: generator_rewards=-4.53, value_loss=30.09, policy_loss=-5.29\n",
      "------------------------------------------------------\n",
      "Epoch 800: generator_rewards=-5.70, value_loss=41.53, policy_loss=-3.29\n",
      "------------------------------------------------------\n",
      "Epoch 800: generator_rewards=-5.44, value_loss=38.00, policy_loss=-7.53\n",
      "------------------------------------------------------\n",
      "Epoch 800: Avg Reward=-182.75\n",
      "Expert Policy: Avg Reward=-39.53\n",
      "------------------------------------------------------\n",
      "Epoch 820: generator_rewards=-3.43, value_loss=18.48, policy_loss=-1.48\n",
      "------------------------------------------------------\n",
      "Epoch 820: generator_rewards=-3.24, value_loss=16.98, policy_loss=-4.70\n",
      "------------------------------------------------------\n",
      "Epoch 840: generator_rewards=-6.04, value_loss=43.41, policy_loss=-2.34\n",
      "------------------------------------------------------\n",
      "Epoch 840: generator_rewards=-6.01, value_loss=43.52, policy_loss=-8.08\n",
      "------------------------------------------------------\n",
      "Epoch 850: Avg Reward=-282.16\n",
      "Expert Policy: Avg Reward=-39.53\n",
      "------------------------------------------------------\n",
      "Epoch 860: generator_rewards=-6.96, value_loss=61.98, policy_loss=-3.36\n",
      "------------------------------------------------------\n",
      "Epoch 860: generator_rewards=-7.40, value_loss=70.16, policy_loss=-10.07\n",
      "------------------------------------------------------\n",
      "Epoch 880: generator_rewards=-6.07, value_loss=46.40, policy_loss=-1.41\n",
      "------------------------------------------------------\n",
      "Epoch 880: generator_rewards=-6.27, value_loss=49.91, policy_loss=-7.54\n",
      "------------------------------------------------------\n",
      "Epoch 900: generator_rewards=-6.99, value_loss=59.35, policy_loss=-2.31\n",
      "------------------------------------------------------\n",
      "Epoch 900: generator_rewards=-6.77, value_loss=56.51, policy_loss=-6.74\n",
      "------------------------------------------------------\n",
      "Epoch 900: Avg Reward=-252.71\n",
      "Expert Policy: Avg Reward=-39.53\n",
      "------------------------------------------------------\n",
      "Epoch 920: generator_rewards=-7.31, value_loss=77.43, policy_loss=-2.52\n",
      "------------------------------------------------------\n",
      "Epoch 920: generator_rewards=-7.10, value_loss=76.82, policy_loss=-9.03\n",
      "------------------------------------------------------\n",
      "Epoch 940: generator_rewards=-5.94, value_loss=59.00, policy_loss=-2.83\n",
      "------------------------------------------------------\n",
      "Epoch 940: generator_rewards=-6.14, value_loss=62.57, policy_loss=-6.76\n",
      "------------------------------------------------------\n",
      "Epoch 950: Avg Reward=-310.15\n",
      "Expert Policy: Avg Reward=-39.53\n",
      "------------------------------------------------------\n",
      "Epoch 960: generator_rewards=-7.05, value_loss=60.05, policy_loss=-2.05\n",
      "------------------------------------------------------\n",
      "Epoch 960: generator_rewards=-6.85, value_loss=59.13, policy_loss=-6.85\n",
      "------------------------------------------------------\n",
      "Epoch 980: generator_rewards=-5.18, value_loss=36.20, policy_loss=-1.66\n",
      "------------------------------------------------------\n",
      "Epoch 980: generator_rewards=-5.34, value_loss=39.49, policy_loss=-5.73\n"
     ]
    }
   ],
   "execution_count": 20
  },
  {
   "cell_type": "markdown",
   "metadata": {},
   "source": [
    "# Plotting Training Results"
   ]
  },
  {
   "cell_type": "code",
   "metadata": {
    "ExecuteTime": {
     "end_time": "2025-04-21T07:59:14.677537Z",
     "start_time": "2025-04-21T07:59:13.772583Z"
    }
   },
   "source": [
    "import os\n",
    "import matplotlib.pyplot as plt\n",
    "import numpy as np\n",
    "from datetime import datetime\n",
    "\n",
    "\n",
    "epochs = range(0, len(all_episode_rewards) * 50, 50)  # X-axis: epochs (0, 50, 100, ...)\n",
    "\n",
    "\n",
    "# Create the plot\n",
    "plt.figure(figsize=(20, 6))\n",
    "plt.plot(epochs, all_episode_rewards, label='Policy', marker='o', color='blue')\n",
    "plt.plot(epochs, all_expert_rewards, label='Expert', marker='x', color='red')\n",
    "\n",
    "# Customize the plot\n",
    "plt.xlabel('Epochs')\n",
    "plt.ylabel('Average Reward')\n",
    "plt.title('MAGAIL: Learnt Policy vs Expert Rewards (Evaluated Every 50 Epochs)')\n",
    "plt.grid(True, linestyle='--', alpha=0.7)\n",
    "plt.legend()\n",
    "plt.xticks(epochs)  # Show epoch numbers on x-axis\n",
    "\n",
    "\n",
    "# Save plot\n",
    "os.makedirs(\"plots\", exist_ok=True)\n",
    "timestamp = datetime.now().strftime(\"%Y-%m-%d_%H-%M\")\n",
    "save_path = f\"plots/magail_{timestamp}.png\"\n",
    "plt.savefig(save_path, dpi=300, bbox_inches='tight')\n",
    "\n",
    "\n",
    "# Display the plot\n",
    "plt.show()"
   ],
   "outputs": [
    {
     "data": {
      "text/plain": [
       "<Figure size 2000x600 with 1 Axes>"
      ],
      "image/png": "[encoded data removed]"
     },
     "metadata": {},
     "output_type": "display_data"
    }
   ],
   "execution_count": 21
  },
  {
   "metadata": {
    "ExecuteTime": {
     "end_time": "2025-04-21T07:59:14.693968Z",
     "start_time": "2025-04-21T07:59:14.691812Z"
    }
   },
   "cell_type": "code",
   "source": "",
   "outputs": [],
   "execution_count": null
  }
 ],
 "metadata": {
  "kernelspec": {
   "display_name": "Multi-Agent-General",
   "language": "python",
   "name": "python3"
  },
  "language_info": {
   "codemirror_mode": {
    "name": "ipython",
    "version": 3
   },
   "file_extension": ".py",
   "mimetype": "text/x-python",
   "name": "python",
   "nbconvert_exporter": "python",
   "pygments_lexer": "ipython3",
   "version": "3.11.11"
  }
 },
 "nbformat": 4,
 "nbformat_minor": 2
}
